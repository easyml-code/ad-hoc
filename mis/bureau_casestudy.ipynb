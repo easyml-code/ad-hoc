{
 "cells": [
  {
   "cell_type": "code",
   "execution_count": null,
   "id": "3ca51c78-1a2d-44ea-b757-057c427ebb15",
   "metadata": {},
   "outputs": [],
   "source": [
    "from pyspark.sql import SparkSession\n",
    "from pyspark.sql import functions as F\n",
    "from pyspark.sql import Window\n",
    "spark = SparkSession.builder.appName(\"abc\")\\\n",
    ".config('spark.driver.memory','80g')\\\n",
    ".config('spark.sql.legacy.timeParserPolicy','LEGACY')\\\n",
    ".config('spark.sql.codegen.wholeStage', 'false')\\\n",
    ".getOrCreate()"
   ]
  },
  {
   "cell_type": "code",
   "execution_count": null,
   "id": "4f1addd0-67d6-4d6d-ad04-833d56a75c7c",
   "metadata": {},
   "outputs": [],
   "source": [
    "df_hist_old = spark.read.parquet('/home/data/transfer/kissht/data/training_data/history_data.parquet', inferSchema = True, header =True)\n",
    "df_inq = spark.read.parquet('/home/data/transfer/kissht/data/training_data/inquiry_data.parquet', inferSchema = True, header =True)\n",
    "df_trade = spark.read.parquet('/home/data/transfer/kissht/data/training_data/tradeline_data.parquet', inferSchema = True, header =True)\n",
    "df_target = spark.read.parquet('/home/data/transfer/kissht/data/training_data/target_data.parquet', inferSchema = True, header =True)"
   ]
  },
  {
   "cell_type": "markdown",
   "id": "b7be67f9-a156-45a1-ac0c-770cb35c97a5",
   "metadata": {},
   "source": [
    "# TARGET"
   ]
  },
  {
   "cell_type": "code",
   "execution_count": null,
   "id": "cf66e63f-e61f-4e49-ac65-bf2b6c9bf02b",
   "metadata": {},
   "outputs": [],
   "source": [
    "target = df_target.select(\"FB_TRANSACTION_ID\", \"MONTH\", \"SCHEDULED_PAYMENT_DATE\", \"PAID_T30\").filter(F.col(\"MONTH\").isin([1, 2, 3]))\\\n",
    "                      .withColumn(\"PAID_T30_transformed\", 1 - F.col(\"PAID_T30\"))"
   ]
  },
  {
   "cell_type": "code",
   "execution_count": null,
   "id": "833a1eb9-994f-482d-bddb-c9c218f50db7",
   "metadata": {},
   "outputs": [],
   "source": [
    "target_df = target.groupBy(\"FB_TRANSACTION_ID\").agg(\n",
    "                  F.max(\"PAID_T30_transformed\").cast('int').alias(\"TARGET\")\n",
    "        )\n",
    "target_df.show(2)"
   ]
  },
  {
   "cell_type": "markdown",
   "id": "312651af-25b6-4c78-adf5-51be0e9273ee",
   "metadata": {},
   "source": [
    "# Event Rate"
   ]
  },
  {
   "cell_type": "code",
   "execution_count": 5,
   "id": "4903f614-15d8-4e15-b00d-bfe0080e9050",
   "metadata": {},
   "outputs": [
    {
     "name": "stdout",
     "output_type": "stream",
     "text": [
      "Event Rate: 5.963267619441508\n"
     ]
    }
   ],
   "source": [
    "total_instances = target_df.count()\n",
    "positive_instances = target_df.filter(F.col(\"TARGET\") == 1.0).count()\n",
    "event_rate = (positive_instances / total_instances)*100\n",
    "print(\"Event Rate:\", event_rate)"
   ]
  },
  {
   "cell_type": "markdown",
   "id": "1b824f81-2140-4806-862b-3481bc30aaca",
   "metadata": {},
   "source": [
    "# FEATURES"
   ]
  },
  {
   "cell_type": "markdown",
   "id": "e27c2f11-8025-4eaf-a07c-664aab3d5ce5",
   "metadata": {},
   "source": [
    "### Filters"
   ]
  },
  {
   "cell_type": "code",
   "execution_count": 6,
   "id": "dabc2797-8f67-4f9b-8c1a-9a23847960d7",
   "metadata": {},
   "outputs": [
    {
     "name": "stderr",
     "output_type": "stream",
     "text": [
      "24/01/16 12:26:07 WARN SparkStringUtils: Truncated the string representation of a plan since it was too large. This behavior can be adjusted by setting 'spark.sql.debug.maxToStringFields'.\n"
     ]
    },
    {
     "name": "stdout",
     "output_type": "stream",
     "text": [
      "+--------------------+-----------------------+-------------------+--------+------------------+-----------------+---------------------+-----------------------------+----------+--------------+-----------------+-----------+-------------+----------+---------------+--------------+------------------+----------------------------+-------------------------------+-------------------------+--------------------------+------------------------+-------------------+------------+----------+---------------------+----------------+---------------+----------------+\n",
      "|   FB_TRANSACTION_ID|BUREAU_REFERENCE_NUMBER|         CREATED_AT|      ID|LOAN_SERIAL_NUMBER|ACCOUNT_TYPE_CODE|REPORTING_MEMBER_NAME|HIGHEST_CREDIT_OR_LOAN_AMOUNT| OPEN_DATE|REPORTING_DATE|LAST_PAYMENT_DATE|CLOSED_DATE|INTEREST_RATE|EMI_AMOUNT|CURRENT_BALANCE|AMOUNT_OVERDUE|WRITTEN_OFF_AMOUNT|WRITTEN_OFF_AMOUNT_PRINCIPAL|IS_SUIT_FILED_OR_WILFUL_DEFAULT|IS_WRITTEN_OFF_OR_SETTLED|PAYMENT_HISTORY_START_DATE|PAYMENT_HISTORY_END_DATE|ACCOUNT_HOLDER_TYPE|CREDIT_LIMIT|CASH_LIMIT|ACTUAL_PAYMENT_AMOUNT|COLLATERAL_VALUE|COLLATERAL_TYPE|REPAYMENT_TENURE|\n",
      "+--------------------+-----------------------+-------------------+--------+------------------+-----------------+---------------------+-----------------------------+----------+--------------+-----------------+-----------+-------------+----------+---------------+--------------+------------------+----------------------------+-------------------------------+-------------------------+--------------------------+------------------------+-------------------+------------+----------+---------------------+----------------+---------------+----------------+\n",
      "|FAST1676297644989762|   BURE176629887245LJNH|2022-10-30 17:06:49|51981607|                37|               05|        NOT DISCLOSED|                       9000.0|2022-01-31|    2022-03-31|       2022-03-01| 2022-03-01|          0.0|       0.0|            0.0|           0.0|               0.0|                         0.0|                              0|                        0|                2022-03-01|              2022-01-01|         individual|         0.0|       0.0|                  0.0|             0.0|             00|            NULL|\n",
      "|FAST6167384844313874|   BURE176638538287J1IV|2022-10-30 17:18:53|51982946|                27|               10|        NOT DISCLOSED|                      80007.0|2020-01-29|    2022-09-18|       2022-09-08|       NULL|         46.2|       0.0|        71480.0|           0.0|               0.0|                         0.0|                              0|                        0|                2022-09-01|              2020-01-01|         individual|     74000.0|    2520.0|               4130.0|             0.0|               |            NULL|\n",
      "+--------------------+-----------------------+-------------------+--------+------------------+-----------------+---------------------+-----------------------------+----------+--------------+-----------------+-----------+-------------+----------+---------------+--------------+------------------+----------------------------+-------------------------------+-------------------------+--------------------------+------------------------+-------------------+------------+----------+---------------------+----------------+---------------+----------------+\n",
      "only showing top 2 rows\n",
      "\n"
     ]
    }
   ],
   "source": [
    "df_trade.show(2)"
   ]
  },
  {
   "cell_type": "code",
   "execution_count": 8,
   "id": "92bade00-163d-4cb7-bd58-df346973c766",
   "metadata": {},
   "outputs": [],
   "source": [
    "df_trade_1 = df_trade.withColumn(\"CREATED_AT\", F.when(F.col(\"CREATED_AT\")>= \"1950-01-01\", F.col(\"CREATED_AT\")).otherwise(None))\\\n",
    "                     .withColumn(\"OPEN_DATE\", F.when(F.col(\"OPEN_DATE\")>= \"1950-01-01\", F.col(\"OPEN_DATE\")).otherwise(None))\\\n",
    "                     .withColumn(\"REPORTING_DATE\", F.when(F.col(\"REPORTING_DATE\")>= \"1950-01-01\", F.col(\"REPORTING_DATE\")).otherwise(None))\\\n",
    "                     .withColumn(\"LAST_PAYMENT_DATE\", F.when(F.col(\"LAST_PAYMENT_DATE\")>= \"1950-01-01\", F.col(\"LAST_PAYMENT_DATE\")).otherwise(None))\\\n",
    "                     .withColumn(\"CLOSED_DATE\", F.when(F.col(\"CLOSED_DATE\")>= \"1950-01-01\", F.col(\"CLOSED_DATE\")).otherwise(None))\\\n",
    "                     .withColumn(\"PAYMENT_HISTORY_START_DATE\", F.when(F.col(\"PAYMENT_HISTORY_START_DATE\")>= \"1950-01-01\", F.col(\"PAYMENT_HISTORY_START_DATE\")).otherwise(None))\\\n",
    "                     .withColumn(\"PAYMENT_HISTORY_END_DATE\", F.when(F.col(\"PAYMENT_HISTORY_END_DATE\")>= \"1950-01-01\", F.col(\"PAYMENT_HISTORY_END_DATE\")).otherwise(None))"
   ]
  },
  {
   "cell_type": "code",
   "execution_count": 9,
   "id": "72eabbc7-511c-49f6-b185-35bf42c90174",
   "metadata": {},
   "outputs": [],
   "source": [
    "condition = (F.col(\"CREATED_AT\") > F.col(\"OPEN_DATE\")) & \\\n",
    "            (F.col(\"CREATED_AT\") > F.col(\"PAYMENT_HISTORY_START_DATE\"))&\\\n",
    "            (F.col(\"CREATED_AT\") > F.col(\"PAYMENT_HISTORY_END_DATE\"))&\\\n",
    "            (F.col(\"CLOSED_DATE\").isNull() | (F.col(\"CLOSED_DATE\") > F.col(\"OPEN_DATE\")))&\\\n",
    "            (F.col(\"OPEN_DATE\").isNotNull() & F.col(\"CREATED_AT\").isNotNull() & F.col(\"PAYMENT_HISTORY_START_DATE\").isNotNull())\n",
    "\n",
    "df_trade_1 = df_trade_1.filter(condition)\n",
    "window1 = Window.partitionBy(\"FB_TRANSACTION_ID\", \"ID\").orderBy(F.col(\"REPORTING_DATE\").desc(), F.col(\"CURRENT_BALANCE\").desc(), F.col(\"CLOSED_DATE\").desc())\n",
    "df_trade_filtered = df_trade_1.withColumn(\"row_number\", F.row_number().over(window1)).filter(F.col(\"row_number\") == 1).drop(\"row_number\")"
   ]
  },
  {
   "cell_type": "code",
   "execution_count": 11,
   "id": "6a4fbfbc-3713-4140-baa6-bb61d921f124",
   "metadata": {},
   "outputs": [
    {
     "name": "stderr",
     "output_type": "stream",
     "text": [
      "                                                                                \r"
     ]
    },
    {
     "data": {
      "text/plain": [
       "2368450"
      ]
     },
     "execution_count": 11,
     "metadata": {},
     "output_type": "execute_result"
    }
   ],
   "source": [
    "df_trade_1.count()"
   ]
  },
  {
   "cell_type": "code",
   "execution_count": 12,
   "id": "13db6a78-cb64-43f2-821b-02a9817eec18",
   "metadata": {},
   "outputs": [
    {
     "data": {
      "text/plain": [
       "2388304"
      ]
     },
     "execution_count": 12,
     "metadata": {},
     "output_type": "execute_result"
    }
   ],
   "source": [
    "df_trade.count()"
   ]
  },
  {
   "cell_type": "markdown",
   "id": "795eb301-ade3-4182-b3be-1e5dd7bda04d",
   "metadata": {},
   "source": [
    "### Joining Tradeline with History"
   ]
  },
  {
   "cell_type": "code",
   "execution_count": 13,
   "id": "f1c017c9-1274-48f4-9036-18c9a8a610e0",
   "metadata": {},
   "outputs": [],
   "source": [
    "df_hist = df_hist_old.select('FB_TRANSACTION_ID', 'BUREAU_LOAN_ID', 'DATE', 'DPD', 'ASSET_CODE', 'CREATED_AT')\\\n",
    "                     .withColumnRenamed(\"BUREAU_LOAN_ID\", \"ID\")\\\n",
    "                     .withColumnRenamed(\"CREATED_AT\", \"CREATED_AT_H\")\\\n",
    "                     .withColumn(\"CREATED_AT_H\", F.trunc(F.col(\"CREATED_AT_H\"), \"month\"))\\\n",
    "                     .withColumn(\"DATE\", F.trunc(F.col(\"DATE\"), \"month\"))\\\n",
    "                     .withColumn(\"month_diff\", (F.months_between(F.col(\"CREATED_AT_H\"), F.col(\"DATE\"))).cast('int'))"
   ]
  },
  {
   "cell_type": "code",
   "execution_count": 14,
   "id": "7ef9f100-8871-4b34-848f-393fe0ca64ea",
   "metadata": {},
   "outputs": [],
   "source": [
    "hist_exp = [\"*\",\n",
    "    \"\"\"\n",
    "    case when DPD >= 360 then 360\n",
    "    when (DPD >= 180 and DPD < 360) or ASSET_CODE in ('LSS' , 'DBT') then 180\n",
    "    when (DPD >= 150 and DPD < 180) then 150\n",
    "    when (DPD >= 90 and DPD < 150) or ASSET_CODE = 'SUB' then 90\n",
    "    when (DPD >= 60 and DPD < 90) or ASSET_CODE = 'SMA' then 60\n",
    "    when (DPD >= 30 and DPD < 60) then 30\n",
    "    when (DPD >= 1 and DPD < 30) then 1\n",
    "    when (DPD = 0) or ASSET_CODE = 'STD' then 0\n",
    "    else DPD end as DPD_NEW\n",
    "    \"\"\"]"
   ]
  },
  {
   "cell_type": "code",
   "execution_count": 15,
   "id": "026074e0-900f-424a-9ef3-b815dc3603e6",
   "metadata": {},
   "outputs": [],
   "source": [
    "df_hist=df_hist.selectExpr(hist_exp)\n",
    "# df_hist.show(2)"
   ]
  },
  {
   "cell_type": "code",
   "execution_count": 19,
   "id": "7e5322ad-e05b-4267-9a9f-13a7709dd78c",
   "metadata": {},
   "outputs": [
    {
     "name": "stdout",
     "output_type": "stream",
     "text": [
      "+--------------------+--------+----------+---+----------+------------+----------+-------+\n",
      "|   FB_TRANSACTION_ID|      ID|      DATE|DPD|ASSET_CODE|CREATED_AT_H|month_diff|DPD_NEW|\n",
      "+--------------------+--------+----------+---+----------+------------+----------+-------+\n",
      "|FAST6167832445294185|49355733|2022-01-01|  0|          |  2022-10-01|         9|      0|\n",
      "|FAST6167832445294185|49355726|2022-06-01|  0|          |  2022-10-01|         4|      0|\n",
      "|FAST6167832445294185|49355717|2022-07-01|  0|          |  2022-10-01|         3|      0|\n",
      "|FAST6167832445294185|49355733|2022-03-01|  0|          |  2022-10-01|         7|      0|\n",
      "|FAST6167832445294185|49355733|2022-04-01|  0|          |  2022-10-01|         6|      0|\n",
      "|FAST6167832445294185|49355718|2022-07-01|  0|          |  2022-10-01|         3|      0|\n",
      "|FAST6167832445294185|49355732|2022-01-01|  0|          |  2022-10-01|         9|      0|\n",
      "|FAST6167832445294185|49355738|2021-10-01|  0|          |  2022-10-01|        12|      0|\n",
      "|FAST6167832445294185|49355735|2021-12-01|  0|          |  2022-10-01|        10|      0|\n",
      "|FAST6167832445294185|49355727|2022-06-01|  0|          |  2022-10-01|         4|      0|\n",
      "|FAST6167832445294185|49355738|2021-12-01|  0|          |  2022-10-01|        10|      0|\n",
      "|FAST6167832445294185|49355738|2022-01-01|  0|          |  2022-10-01|         9|      0|\n",
      "|FAST6167832445294185|49355726|2022-07-01|  0|          |  2022-10-01|         3|      0|\n",
      "|FAST6167832445294185|49355736|2022-06-01|  0|          |  2022-10-01|         4|      0|\n",
      "|FAST6167832445294185|49355733|2022-05-01|  0|          |  2022-10-01|         5|      0|\n",
      "|FAST6167832445294185|49355724|2022-04-01|  0|          |  2022-10-01|         6|      0|\n",
      "|FAST6167832445294185|49355719|2022-07-01|  0|          |  2022-10-01|         3|      0|\n",
      "|FAST6167832445294185|49355731|2022-03-01|  0|          |  2022-10-01|         7|      0|\n",
      "|FAST6167832445294185|49355736|2022-03-01|  0|          |  2022-10-01|         7|      0|\n",
      "|FAST6516742139293195|49760180|2021-11-01|  0|          |  2022-10-01|        11|      0|\n",
      "+--------------------+--------+----------+---+----------+------------+----------+-------+\n",
      "only showing top 20 rows\n",
      "\n"
     ]
    }
   ],
   "source": [
    "df_hist.show()"
   ]
  },
  {
   "cell_type": "code",
   "execution_count": 16,
   "id": "7ac21d21-4c32-47e7-9d97-bfd855681e13",
   "metadata": {},
   "outputs": [],
   "source": [
    "tradeline_hist = df_trade_filtered.join(df_hist, on = [\"FB_TRANSACTION_ID\", \"ID\"], how = \"inner\")\n",
    "tradeline_hist = tradeline_hist.drop(*['CREATED_AT_H'])\n",
    "# tradeline_hist.show(2)"
   ]
  },
  {
   "cell_type": "code",
   "execution_count": 17,
   "id": "e702d3cd-b37c-4c79-9d4c-c4417ae3a06d",
   "metadata": {},
   "outputs": [
    {
     "name": "stderr",
     "output_type": "stream",
     "text": [
      "                                                                                \r"
     ]
    },
    {
     "data": {
      "text/plain": [
       "14721227"
      ]
     },
     "execution_count": 17,
     "metadata": {},
     "output_type": "execute_result"
    }
   ],
   "source": [
    "tradeline_hist.count()"
   ]
  },
  {
   "cell_type": "code",
   "execution_count": 18,
   "id": "29d15e35-8ddb-4b98-8435-fa04a38eb3ba",
   "metadata": {},
   "outputs": [
    {
     "name": "stderr",
     "output_type": "stream",
     "text": [
      "                                                                                \r"
     ]
    },
    {
     "data": {
      "text/plain": [
       "14749126"
      ]
     },
     "execution_count": 18,
     "metadata": {},
     "output_type": "execute_result"
    }
   ],
   "source": [
    "df_hist.count()"
   ]
  },
  {
   "cell_type": "code",
   "execution_count": 40,
   "id": "84a72b5c-82ac-4933-be13-d74f54e7db83",
   "metadata": {},
   "outputs": [
    {
     "name": "stderr",
     "output_type": "stream",
     "text": [
      "                                                                                \r"
     ]
    },
    {
     "data": {
      "text/plain": [
       "2368450"
      ]
     },
     "execution_count": 40,
     "metadata": {},
     "output_type": "execute_result"
    }
   ],
   "source": [
    "filtered_tradeline.count()"
   ]
  },
  {
   "cell_type": "code",
   "execution_count": 41,
   "id": "f37a7d1d-1fe5-4e7a-8fa7-51244f43ee41",
   "metadata": {},
   "outputs": [
    {
     "name": "stderr",
     "output_type": "stream",
     "text": [
      "                                                                                \r"
     ]
    },
    {
     "data": {
      "text/plain": [
       "14749126"
      ]
     },
     "execution_count": 41,
     "metadata": {},
     "output_type": "execute_result"
    }
   ],
   "source": [
    "tradeline_hist.count()"
   ]
  },
  {
   "cell_type": "code",
   "execution_count": 42,
   "id": "ca307bd7-1439-4703-b657-f8b0ecb10425",
   "metadata": {},
   "outputs": [
    {
     "name": "stderr",
     "output_type": "stream",
     "text": [
      "[Stage 125:>                                                        (0 + 1) / 1]\r"
     ]
    },
    {
     "name": "stdout",
     "output_type": "stream",
     "text": [
      "+--------------------+--------+-----------------------+-------------------+------------------+-----------------+---------------------+-----------------------------+----------+--------------+-----------------+-----------+-------------+----------+---------------+--------------+------------------+----------------------------+-------------------------------+-------------------------+--------------------------+------------------------+-------------------+------------+----------+---------------------+----------------+---------------+----------------+----------+---+----------+----------+-------+\n",
      "|   FB_TRANSACTION_ID|      ID|BUREAU_REFERENCE_NUMBER|         CREATED_AT|LOAN_SERIAL_NUMBER|ACCOUNT_TYPE_CODE|REPORTING_MEMBER_NAME|HIGHEST_CREDIT_OR_LOAN_AMOUNT| OPEN_DATE|REPORTING_DATE|LAST_PAYMENT_DATE|CLOSED_DATE|INTEREST_RATE|EMI_AMOUNT|CURRENT_BALANCE|AMOUNT_OVERDUE|WRITTEN_OFF_AMOUNT|WRITTEN_OFF_AMOUNT_PRINCIPAL|IS_SUIT_FILED_OR_WILFUL_DEFAULT|IS_WRITTEN_OFF_OR_SETTLED|PAYMENT_HISTORY_START_DATE|PAYMENT_HISTORY_END_DATE|ACCOUNT_HOLDER_TYPE|CREDIT_LIMIT|CASH_LIMIT|ACTUAL_PAYMENT_AMOUNT|COLLATERAL_VALUE|COLLATERAL_TYPE|REPAYMENT_TENURE|      DATE|DPD|ASSET_CODE|month_diff|DPD_NEW|\n",
      "+--------------------+--------+-----------------------+-------------------+------------------+-----------------+---------------------+-----------------------------+----------+--------------+-----------------+-----------+-------------+----------+---------------+--------------+------------------+----------------------------+-------------------------------+-------------------------+--------------------------+------------------------+-------------------+------------+----------+---------------------+----------------+---------------+----------------+----------+---+----------+----------+-------+\n",
      "|FAST1166531956684612|71773475|   BURE165714764322OJY6|2023-02-02 10:42:46|              T006|               05|        NOT DISCLOSED|                       8000.0|2022-06-27|    2022-08-31|       2022-08-28| 2022-08-28|          0.0|    4224.0|            0.0|           0.0|               0.0|                         0.0|                              0|                        0|                2022-08-01|              2022-06-01|         individual|         0.0|       0.0|               8000.0|             0.0|               |               2|2022-07-01|  0|          |         7|      0|\n",
      "|FAST1166531956684612|71773476|   BURE165714764322OJY6|2023-02-02 10:42:46|              T007|               05|        NOT DISCLOSED|                       8639.0|2022-06-13|    2022-09-17|       2022-09-11| 2022-09-11|          0.0|       0.0|            0.0|           0.0|               0.0|                         0.0|                              0|                        0|                2022-09-01|              2022-09-01|         individual|         0.0|       0.0|                  0.0|             0.0|               |            NULL|2022-09-01|  0|          |         5|      0|\n",
      "|FAST1166531956684612|71773493|   BURE165714764322OJY6|2023-02-02 10:42:46|              T024|               05|        NOT DISCLOSED|                       1600.0|2019-08-16|    2019-09-30|       2019-09-13| 2019-09-13|          0.0|       0.0|            0.0|           0.0|               0.0|                         0.0|                              0|                        0|                2019-09-01|              2019-09-01|         individual|         0.0|       0.0|                  0.0|             0.0|             00|            NULL|2019-09-01|  0|          |        41|      0|\n",
      "|FAST1166793196753512|94648586|   BURE186877569834HI7X|2023-04-05 12:22:53|              T006|               06|        NOT DISCLOSED|                      27999.0|2022-11-15|    2023-02-28|       2023-01-02|       NULL|          0.0|    4000.0|        11999.0|           0.0|               0.0|                         0.0|                              0|                        0|                2023-02-01|              2022-11-01|         individual|         0.0|       0.0|                  0.0|             0.0|               |               7|2022-12-01|  0|          |         4|      0|\n",
      "|FAST1166793196753512|94648596|   BURE186877569834HI7X|2023-04-05 12:22:53|              T016|               05|     SI CREVA CAPITAL|                      10600.0|2021-12-24|    2022-02-28|       2022-02-24| 2022-02-24|         18.0|    5250.0|            0.0|           0.0|               0.0|                         0.0|                              0|                        0|                2022-02-01|              2021-12-01|         individual|         0.0|       0.0|                  0.0|             0.0|               |               2|2022-02-01|  0|          |        14|      0|\n",
      "+--------------------+--------+-----------------------+-------------------+------------------+-----------------+---------------------+-----------------------------+----------+--------------+-----------------+-----------+-------------+----------+---------------+--------------+------------------+----------------------------+-------------------------------+-------------------------+--------------------------+------------------------+-------------------+------------+----------+---------------------+----------------+---------------+----------------+----------+---+----------+----------+-------+\n",
      "only showing top 5 rows\n",
      "\n"
     ]
    },
    {
     "name": "stderr",
     "output_type": "stream",
     "text": [
      "                                                                                \r"
     ]
    }
   ],
   "source": [
    "filtered_tradeline.show(5)"
   ]
  },
  {
   "cell_type": "markdown",
   "id": "54670b88-bc19-4947-a35b-a9bd70256687",
   "metadata": {},
   "source": [
    "### Trancate"
   ]
  },
  {
   "cell_type": "code",
   "execution_count": 39,
   "id": "1545031d-1f72-422c-a875-a2eb14da7f4a",
   "metadata": {},
   "outputs": [],
   "source": [
    "tradeline_hist_truncated = tradeline_hist\\\n",
    "                                .withColumn(\"CREATED_AT_TRUNC\", F.trunc(F.col(\"CREATED_AT\"), \"month\"))\\\n",
    "                                .withColumn(\"OPEN_DATE_TRUNC\", F.trunc(F.col(\"OPEN_DATE\"), \"month\"))\\\n",
    "                                .withColumn(\"REPORTING_DATE_TRUNC\", F.trunc(F.col(\"REPORTING_DATE\"), \"month\"))\\\n",
    "                                .withColumn(\"LAST_PAYMENT_DATE_TRUNC\", F.trunc(F.col(\"LAST_PAYMENT_DATE\"), \"month\"))\\\n",
    "                                .withColumn(\"CLOSED_DATE_TRUNC\", F.trunc(F.col(\"CLOSED_DATE\"), \"month\"))\\\n",
    "                                .withColumn(\"PAYMENT_HISTORY_START_DATE_TRUNC\", F.trunc(F.col(\"PAYMENT_HISTORY_START_DATE\"), \"month\"))\\\n",
    "                                .withColumn(\"PAYMENT_HISTORY_END_DATE_TRUNC\", F.trunc(F.col(\"PAYMENT_HISTORY_END_DATE\"), \"month\"))\\\n",
    "                                .withColumn('ACCOUNT_TYPE_CODE', F.col('ACCOUNT_TYPE_CODE').cast('int'))\\\n",
    "                                .withColumn('DATE_TRUNC',F.trunc(F.col(\"DATE\"), \"month\"))\\\n",
    ".withColumn(\"vintage_bureau\", F.months_between(F.col(\"CREATED_AT_TRUNC\"), F.col(\"OPEN_DATE_TRUNC\")).cast('int'))"
   ]
  },
  {
   "cell_type": "code",
   "execution_count": 40,
   "id": "ca1e4948-b7b8-4f30-a880-d7cb3c470c37",
   "metadata": {},
   "outputs": [
    {
     "name": "stderr",
     "output_type": "stream",
     "text": [
      "                                                                                \r"
     ]
    },
    {
     "name": "stdout",
     "output_type": "stream",
     "text": [
      "+--------------------+----------------+---------------+--------------+\n",
      "|   FB_TRANSACTION_ID|CREATED_AT_TRUNC|OPEN_DATE_TRUNC|vintage_bureau|\n",
      "+--------------------+----------------+---------------+--------------+\n",
      "|FAST6167832445294185|      2022-10-01|     2022-01-01|             9|\n",
      "|FAST6167832445294185|      2022-10-01|     2022-03-01|             7|\n",
      "|FAST6167832445294185|      2022-10-01|     2022-07-01|             3|\n",
      "|FAST6167832445294185|      2022-10-01|     2022-01-01|             9|\n",
      "|FAST6167832445294185|      2022-10-01|     2022-01-01|             9|\n",
      "|FAST6167832445294185|      2022-10-01|     2022-07-01|             3|\n",
      "|FAST6167832445294185|      2022-10-01|     2022-01-01|             9|\n",
      "|FAST6167832445294185|      2022-10-01|     2021-10-01|            12|\n",
      "|FAST6167832445294185|      2022-10-01|     2021-12-01|            10|\n",
      "|FAST6167832445294185|      2022-10-01|     2022-03-01|             7|\n",
      "|FAST6167832445294185|      2022-10-01|     2021-10-01|            12|\n",
      "|FAST6167832445294185|      2022-10-01|     2021-10-01|            12|\n",
      "|FAST6167832445294185|      2022-10-01|     2022-03-01|             7|\n",
      "|FAST6167832445294185|      2022-10-01|     2021-12-01|            10|\n",
      "|FAST6167832445294185|      2022-10-01|     2022-01-01|             9|\n",
      "|FAST6167832445294185|      2022-10-01|     2022-04-01|             6|\n",
      "|FAST6167832445294185|      2022-10-01|     2022-07-01|             3|\n",
      "|FAST6167832445294185|      2022-10-01|     2022-02-01|             8|\n",
      "|FAST6167832445294185|      2022-10-01|     2021-12-01|            10|\n",
      "|FAST6516742139293195|      2022-10-01|     2021-07-01|            15|\n",
      "+--------------------+----------------+---------------+--------------+\n",
      "only showing top 20 rows\n",
      "\n"
     ]
    }
   ],
   "source": [
    "tradeline_hist_truncated.select(\"FB_TRANSACTION_ID\", \"CREATED_AT_TRUNC\", \"OPEN_DATE_TRUNC\", \"vintage_bureau\").show()"
   ]
  },
  {
   "cell_type": "code",
   "execution_count": 48,
   "id": "a81858a8-6118-458a-b1be-c96f6124df70",
   "metadata": {},
   "outputs": [],
   "source": [
    "window2 = Window.partitionBy(\"FB_TRANSACTION_ID\")\n",
    "window3 = Window.partitionBy(\"FB_TRANSACTION_ID\").orderBy(F.col(\"OPEN_DATE\").asc())"
   ]
  },
  {
   "cell_type": "code",
   "execution_count": 66,
   "id": "052e18a2-6421-40e6-8aec-6dfa1de87cdf",
   "metadata": {},
   "outputs": [],
   "source": [
    "tradeline = tradeline_hist_truncated\\\n",
    "                                    .withColumn(\"max_vintage_bureau\", F.max(\"vintage_bureau\").over(window2))\\\n",
    "                                    .withColumn(\"min_vintage_bureau\", F.min(\"vintage_bureau\").over(window2))\\\n",
    "                                    .withColumn('lagged_open_date', F.lag('OPEN_DATE').over(window3))\\\n",
    "                                    .withColumn(\"days_diff\", F.datediff(F.col(\"lagged_open_date\"), F.col(\"OPEN_DATE\")))\\\n",
    "                                    # .withColumn(\"M1\", F.add_months(F.col(\"CREATED_AT_TRUNC\"), -1))\\\n",
    "                                    # .withColumn(\"M2\", F.add_months(F.col(\"CREATED_AT_TRUNC\"), -2))\\\n",
    "                                    # .withColumn(\"M6\", F.add_months(F.col(\"CREATED_AT_TRUNC\"), -6))\\\n",
    "                                    # .withColumn(\"M7\", F.add_months(F.col(\"CREATED_AT_TRUNC\"), -7))\\\n",
    "                                    # .withColumn(\"M8\", F.add_months(F.col(\"CREATED_AT_TRUNC\"), -8))"
   ]
  },
  {
   "cell_type": "code",
   "execution_count": 67,
   "id": "13728430-5ea0-4303-8d3e-9c94ca03c846",
   "metadata": {},
   "outputs": [
    {
     "name": "stderr",
     "output_type": "stream",
     "text": [
      "[Stage 165:==================================================>    (11 + 1) / 12]\r"
     ]
    },
    {
     "name": "stdout",
     "output_type": "stream",
     "text": [
      "+--------------------+----------------+---------------+-----------------+--------------+------------------+------------------+----------+----------------+---------+\n",
      "|   FB_TRANSACTION_ID|CREATED_AT_TRUNC|OPEN_DATE_TRUNC|ACCOUNT_TYPE_CODE|vintage_bureau|max_vintage_bureau|min_vintage_bureau| OPEN_DATE|lagged_open_date|days_diff|\n",
      "+--------------------+----------------+---------------+-----------------+--------------+------------------+------------------+----------+----------------+---------+\n",
      "|FAST1167168558886728|      2022-12-01|     2014-08-01|               10|           100|               100|                 1|2014-08-13|            NULL|     NULL|\n",
      "|FAST1167168558886728|      2022-12-01|     2014-08-01|               10|           100|               100|                 1|2014-08-13|      2014-08-13|        0|\n",
      "|FAST1167168558886728|      2022-12-01|     2014-08-01|               10|           100|               100|                 1|2014-08-13|      2014-08-13|        0|\n",
      "|FAST1167168558886728|      2022-12-01|     2014-08-01|               10|           100|               100|                 1|2014-08-13|      2014-08-13|        0|\n",
      "|FAST1167168558886728|      2022-12-01|     2014-08-01|               10|           100|               100|                 1|2014-08-13|      2014-08-13|        0|\n",
      "|FAST1167168558886728|      2022-12-01|     2014-08-01|               10|           100|               100|                 1|2014-08-13|      2014-08-13|        0|\n",
      "|FAST1167168558886728|      2022-12-01|     2014-08-01|               10|           100|               100|                 1|2014-08-13|      2014-08-13|        0|\n",
      "|FAST1167168558886728|      2022-12-01|     2014-08-01|               10|           100|               100|                 1|2014-08-13|      2014-08-13|        0|\n",
      "|FAST1167168558886728|      2022-12-01|     2014-08-01|               10|           100|               100|                 1|2014-08-13|      2014-08-13|        0|\n",
      "|FAST1167168558886728|      2022-12-01|     2014-08-01|               10|           100|               100|                 1|2014-08-13|      2014-08-13|        0|\n",
      "|FAST1167168558886728|      2022-12-01|     2014-08-01|               10|           100|               100|                 1|2014-08-13|      2014-08-13|        0|\n",
      "|FAST1167168558886728|      2022-12-01|     2014-08-01|               10|           100|               100|                 1|2014-08-13|      2014-08-13|        0|\n",
      "|FAST1167168558886728|      2022-12-01|     2014-08-01|               10|           100|               100|                 1|2014-08-13|      2014-08-13|        0|\n",
      "|FAST1167168558886728|      2022-12-01|     2014-08-01|               10|           100|               100|                 1|2014-08-13|      2014-08-13|        0|\n",
      "|FAST1167168558886728|      2022-12-01|     2014-08-01|               10|           100|               100|                 1|2014-08-13|      2014-08-13|        0|\n",
      "|FAST1167168558886728|      2022-12-01|     2014-08-01|               10|           100|               100|                 1|2014-08-13|      2014-08-13|        0|\n",
      "|FAST1167168558886728|      2022-12-01|     2014-08-01|               10|           100|               100|                 1|2014-08-13|      2014-08-13|        0|\n",
      "|FAST1167168558886728|      2022-12-01|     2014-08-01|               10|           100|               100|                 1|2014-08-13|      2014-08-13|        0|\n",
      "|FAST1167168558886728|      2022-12-01|     2014-08-01|               10|           100|               100|                 1|2014-08-13|      2014-08-13|        0|\n",
      "|FAST1167168558886728|      2022-12-01|     2014-08-01|               10|           100|               100|                 1|2014-08-13|      2014-08-13|        0|\n",
      "+--------------------+----------------+---------------+-----------------+--------------+------------------+------------------+----------+----------------+---------+\n",
      "only showing top 20 rows\n",
      "\n"
     ]
    },
    {
     "name": "stderr",
     "output_type": "stream",
     "text": [
      "                                                                                \r"
     ]
    }
   ],
   "source": [
    "tradeline.filter(F.col(\"FB_TRANSACTION_ID\") == \"FAST1167168558886728\").select(\"FB_TRANSACTION_ID\", \"CREATED_AT_TRUNC\", \"OPEN_DATE_TRUNC\", \"ACCOUNT_TYPE_CODE\", \"vintage_bureau\", \"max_vintage_bureau\", \"min_vintage_bureau\", \"OPEN_DATE\", \"lagged_open_date\", \"days_diff\").show(20)"
   ]
  },
  {
   "cell_type": "code",
   "execution_count": 65,
   "id": "577c6547-1989-4823-979f-a4a7a4bc5563",
   "metadata": {},
   "outputs": [
    {
     "name": "stderr",
     "output_type": "stream",
     "text": [
      "[Stage 156:==================================================>    (11 + 1) / 12]\r"
     ]
    },
    {
     "name": "stdout",
     "output_type": "stream",
     "text": [
      "+--------------------+-----------------+----------------+---------------+--------------+------------------+------------------+----------+----------------+\n",
      "|   FB_TRANSACTION_ID|ACCOUNT_TYPE_CODE|CREATED_AT_TRUNC|OPEN_DATE_TRUNC|vintage_bureau|max_vintage_bureau|min_vintage_bureau| OPEN_DATE|lagged_open_date|\n",
      "+--------------------+-----------------+----------------+---------------+--------------+------------------+------------------+----------+----------------+\n",
      "|FAST1167168558886728|                5|      2022-12-01|     2022-11-01|             1|               100|                 1|2022-11-23|      2022-10-13|\n",
      "|FAST1167168558886728|                5|      2022-12-01|     2022-11-01|             1|               100|                 1|2022-11-23|      2022-11-23|\n",
      "|FAST1167168558886728|               10|      2022-12-01|     2022-11-01|             1|               100|                 1|2022-11-25|      2022-11-23|\n",
      "+--------------------+-----------------+----------------+---------------+--------------+------------------+------------------+----------+----------------+\n",
      "\n"
     ]
    },
    {
     "name": "stderr",
     "output_type": "stream",
     "text": [
      "                                                                                \r"
     ]
    }
   ],
   "source": [
    "tradeline.filter((F.col(\"FB_TRANSACTION_ID\") == \"FAST1167168558886728\") & (F.col(\"vintage_bureau\") == F.col(\"min_vintage_bureau\"))).select(\"FB_TRANSACTION_ID\", \"ACCOUNT_TYPE_CODE\", \"CREATED_AT_TRUNC\", \"OPEN_DATE_TRUNC\", \"vintage_bureau\", \"max_vintage_bureau\", \"min_vintage_bureau\", \"OPEN_DATE\", \"lagged_open_date\").show(20)"
   ]
  },
  {
   "cell_type": "code",
   "execution_count": 13,
   "id": "23f43684-68a8-4c21-88f2-a379df46a985",
   "metadata": {},
   "outputs": [],
   "source": [
    "exp_tradeline = [\"*\",\n",
    "       \"case when vintage_bureau = max_vintage_bureau then account_type_code end as first_product\",\n",
    "       \"case when vintage_bureau = min_vintage_bureau then account_type_code end as latest_product\",\n",
    "       \"case when (vintage_bureau >= 0 and vintage_bureau < 1) then 1 else 0 end as open_flag_1\",\n",
    "       \"case when (vintage_bureau >= 0 and vintage_bureau < 3) then 1 else 0 end as open_flag_3\",\n",
    "       \"case when (vintage_bureau >= 0 and vintage_bureau < 6) then 1 else 0 end as open_flag_6\",\n",
    "       \"case when (vintage_bureau >= 0 and vintage_bureau < 12) then 1 else 0 end as open_flag_12\",\n",
    "       \"case when (vintage_bureau >= 0 and vintage_bureau < 36) then 1 else 0 end as open_flag_36\",\n",
    "       \"\"\"\n",
    "          case when account_type_code in (1, 34, 32) then 'AL'\n",
    "               when account_type_code in  (51, 53, 54, 52, 50, 61, 59, 55, 57, 56, 23, 24, 40, 39) then 'BL'\n",
    "               when account_type_code in (35, 10, 16, 36, 15, 31) then 'CC'\n",
    "               when account_type_code = 6 then 'CD'\n",
    "               when account_type_code = 33 then 'CE'\n",
    "               when account_type_code = 17 then 'CV'\n",
    "               when account_type_code = 8 then 'EL'\n",
    "               when account_type_code = 7 then 'GL'\n",
    "               when account_type_code in (2, 42, 44) then 'HL'\n",
    "               when account_type_code = 3 then 'LAP'\n",
    "               when account_type_code = 4 then 'LAS'\n",
    "               when account_type_code in (12, 38) then 'OD'\n",
    "               when account_type_code in (14, 0) then 'Other'\n",
    "               when account_type_code in (37, 9, 43, 41, 45, 5) then 'PL'\n",
    "               when account_type_code = 13 then 'TW'\n",
    "               else null end as product_type\n",
    "               \"\"\",\n",
    "       \"\"\"case when account_type_code in (1, 51, 53, 54, 52, 50, 59, 55, 56, 57, 17, 33, 23, 7, 2, 15, 4, 40, 42, 43, 41, 44, 3, 31, 34, 13, 32) then 'Secured'\n",
    "               when account_type_code in (61, 6, 35, 10, 8, 16, 24, 36, 37, 9, 39, 14, 0, 12, 45, 5, 38) then 'Unsecured'\n",
    "               else null end as risk_type\n",
    "               \"\"\",\n",
    "       \"case when product_type = 'HL' then 1 else 0 end as HL_flag\",\n",
    "       \"case when product_type = 'BL' then 1 else 0 end as BL_flag\",\n",
    "       \"case when product_type = 'PL' then 1 else 0 end as PL_flag\",\n",
    "       \"case when account_type_code in (1,51,53,54,52,50,61,59,17,33,6,8,16,23,24,7,2,15,4,37,9,40,42,43,41,39,0,45,5,0,3,34,13,32) then 1 else 0 end as installment_flag\",\n",
    "       \"case when account_type_code in (55,56,57,35,10,36,14,12,38,31) then 1 else 0 end as revolving_flag\",\n",
    "       \n",
    "       \"\"\"\n",
    "          case when closed_date is not null and closed_date < created_at then 0\n",
    "               when installment_flag = 1 and current_balance = 0 and last_payment_date < created_at then 0\n",
    "               else 1 end as live_flag\n",
    "               \"\"\",       \n",
    "       \"\"\"\n",
    "          case when closed_date is not null and closed_date < M1 then 0\n",
    "               when installment_flag = 1 and current_balance = 0 and last_payment_date < M1 then 0\n",
    "               else 1 end as M1_live_flag\n",
    "               \"\"\",       \n",
    "       \"\"\"\n",
    "          case when closed_date is not null and closed_date < M2 then 0\n",
    "               when installment_flag = 1 and current_balance = 0 and last_payment_date < M2 then 0\n",
    "               else 1 end as M2_live_flag\n",
    "               \"\"\",       \n",
    "       \"\"\"\n",
    "          case when closed_date is not null and closed_date < M6 then 0\n",
    "               when installment_flag = 1 and current_balance = 0 and last_payment_date < M6 then 0\n",
    "               else 1 end as M6_live_flag\n",
    "               \"\"\",       \n",
    "       \"\"\"\n",
    "          case when closed_date is not null and closed_date < M7 then 0\n",
    "               when installment_flag = 1 and current_balance = 0 and last_payment_date < M7 then 0\n",
    "               else 1 end as M7_live_flag\n",
    "               \"\"\",       \n",
    "       \"\"\"\n",
    "          case when closed_date is not null and closed_date < M8 then 0\n",
    "               when installment_flag = 1 and current_balance = 0 and last_payment_date < M8 then 0\n",
    "               else 1 end as M8_live_flag\n",
    "               \"\"\",\n",
    "       \"case when product_type = 'PL' and  live_flag = 1 then 1 else 0 end as PL_live_flag\",\n",
    "       \"case when product_type = 'PL' and open_flag_1 = 1 then 1 else 0 end as PL_open_flag_1\",\n",
    "       \"case when product_type = 'PL' and open_flag_3 = 1 then 1 else 0 end as PL_open_flag_3\",\n",
    "       \"case when product_type = 'PL' and open_flag_6 = 1 then 1 else 0 end as PL_open_flag_6\",\n",
    "       \"case when product_type = 'PL' and open_flag_12 = 1 then 1 else 0 end as PL_open_flag_12\",\n",
    "       \"case when product_type = 'CC' then 1 else 0 end as CC_flag\",\n",
    "       \"case when product_type = 'CC' and open_flag_1 = 1 then 1 else 0 end as CC_open_flag_1\",\n",
    "       \"case when product_type = 'CC' and open_flag_3 = 1 then 1 else 0 end as CC_open_flag_3\",\n",
    "       \"case when product_type = 'CC' and open_flag_6 = 1 then 1 else 0 end as CC_open_flag_6\",\n",
    "       \"case when product_type = 'CC' and open_flag_12 = 1 then 1 else 0 end as CC_open_flag_12\",\n",
    "       \"case when risk_type = 'Secured' then 1 else 0 end as Secured_flag\",\n",
    "       \"case when risk_type = 'Unsecured' then 1 else 0 end as Unsecured_flag\",\n",
    "       \"case when risk_type = 'Unsecured' and open_flag_1 = 1 then 1 else 0 end as Unsecured_open_flag_1\",\n",
    "       \"case when risk_type = 'Unsecured' and open_flag_3 = 1 then 1 else 0 end as Unsecured_open_flag_3\",\n",
    "       \"case when risk_type = 'Unsecured' and open_flag_6 = 1 then 1 else 0 end as Unsecured_open_flag_6\",\n",
    "       \"case when risk_type = 'Unsecured' and open_flag_12 = 1 then 1 else 0 end as Unsecured_open_flag_12\",\n",
    "                 \n",
    "       \"case when live_flag = 1 or M1_live_flag = 1 or M2_live_flag = 1 then 1 else 0 end as M0_2_live_flag\",       \n",
    "       \"case when M6_live_flag = 1 or M7_live_flag = 1 or M8_live_flag = 1 then 1 else 0 end as M6_8_live_flag\",\n",
    "       \"case when M0_2_live_flag = 1 and Unsecured_flag = 1 then 1 else 0 end as M0_2_unsecured_live_flag\",\n",
    "       \"case when M6_8_live_flag = 1 and Unsecured_flag = 1 then 1 else 0 end as M6_8_unsecured_live_flag\",\n",
    "       \"case when M0_2_live_flag = 1 and installment_flag = 1 then 1 else 0 end as M0_2_installment_live_flag\",\n",
    "                 \n",
    "       \"case when product_type = 'PL' then current_balance else 0 end as PL_balance\",\n",
    "       \"case when product_type = 'BL' then current_balance else 0 end as BL_balance\",\n",
    "       \"case when product_type = 'CD' then current_balance else 0 end as CD_balance\",\n",
    "       \"case when product_type = 'AL' then current_balance else 0 end as AL_balance\",\n",
    "       \"case when product_type = 'HL' then current_balance else 0 end as HL_balance\",\n",
    "       \"case when product_type = 'CC' then current_balance else 0 end as CC_balance\",\n",
    "       \"case when product_type = 'PL' then HIGHEST_CREDIT_OR_LOAN_AMOUNT else 0 end as PL_sanctioned_amount\",\n",
    "       \"case when product_type = 'BL' then HIGHEST_CREDIT_OR_LOAN_AMOUNT else 0 end as BL_sanctioned_amount\",\n",
    "       \"case when product_type = 'CD' then HIGHEST_CREDIT_OR_LOAN_AMOUNT else 0 end as CD_sanctioned_amount\",\n",
    "       \"case when product_type = 'AL' then HIGHEST_CREDIT_OR_LOAN_AMOUNT else 0 end as AL_sanctioned_amount\",\n",
    "       \"case when product_type = 'HL' then HIGHEST_CREDIT_OR_LOAN_AMOUNT else 0 end as HL_sanctioned_amount\",\n",
    "       \"case when product_type = 'CC' then HIGHEST_CREDIT_OR_LOAN_AMOUNT else 0 end as CC_sanctioned_amount\",\n",
    "       \"case when IS_SUIT_FILED_OR_WILFUL_DEFAULT = 1 or IS_WRITTEN_OFF_OR_SETTLED = 1 then 1 else 0 end as writtenoff_suit_flag\",\n",
    "       \"case when writtenoff_suit_flag = 1 and vintage_bureau <= 36 and vintage_bureau >= 0 then 1 else 0 end as writtenoff_suit_last36_flag\",\n",
    "       \"case when open_flag_6 = 1 then days_diff else 0 end as days_open_last6\",\n",
    "       \"case when open_flag_12 = 1 then days_diff else 0 end as days_open_last12\",\n",
    "       \"case when open_flag_36 = 1 then days_diff else 0 end as days_open_last36\",\n",
    "       \"case when open_flag_6 = 1 and risk_type = 'Unsecured' then days_diff else 0 end as days_unsecured_open_last6\",\n",
    "       \"case when open_flag_12 = 1 and risk_type = 'Unsecured' then days_diff else 0 end as days_unsecured_open_last12\",\n",
    "       \"case when open_flag_36 = 1 and risk_type = 'Unsecured' then days_diff else 0 end as days_unsecured_open_last36\",\n",
    "       \"case when open_flag_6 = 1 and product_type = 'PL' then days_diff else 0 end as days_PL_open_last6\",\n",
    "       \"case when open_flag_12 = 1 and product_type = 'PL' then days_diff else 0 end as days_PL_open_last12\",\n",
    "       \"case when open_flag_36 = 1 and product_type = 'PL' then days_diff else 0 end as days_PL_open_last36\",\n",
    "       \"case when product_type = 'PL' and open_flag_36 = 1 then vintage_bureau else 0 end as PL_vintage_last36\",\n",
    "       \"case when product_type = 'BL' and open_flag_36 = 1 then vintage_bureau else 0 end as BL_vintage_last36\",\n",
    "       \"case when product_type = 'CC' and open_flag_36 = 1 then vintage_bureau else 0 end as CC_vintage_last36\",\n",
    "       \"case when product_type = 'CD' and open_flag_36 = 1 then vintage_bureau else 0 end as CD_vintage_last36\",\n",
    "       \"case when product_type = 'CC' then CURRENT_BALANCE/CREDIT_LIMIT else 0 end as CC_util\",\n",
    "       \"case when dpd_new >= 0 and open_flag_3 = 1 then 1 else 0 end as 0_3_dpd_flag\",\n",
    "       \"case when dpd_new >= 0 and open_flag_12 = 1 then 1 else 0 end as 0_12_dpd_flag\",\n",
    "       \"case when dpd_new >= 0 and open_flag_36 = 1 then 1 else 0 end as 0_36_dpd_flag\",\n",
    "       \"case when dpd_new >= 1 and open_flag_3 = 1 then 1 else 0 end as 1_3_dpd_flag\",\n",
    "       \"case when dpd_new >= 1 and open_flag_12 = 1 then 1 else 0 end as 1_12_dpd_flag\",\n",
    "       \"case when dpd_new >= 1 and open_flag_36 = 1 then 1 else 0 end as 1_36_dpd_flag\",\n",
    "       \"case when dpd_new >= 30 and open_flag_3 = 1 then 1 else 0 end as 30_3_dpd_flag\",\n",
    "       \"case when dpd_new >= 30 and open_flag_12 = 1 then 1 else 0 end as 30_12_dpd_flag\",\n",
    "       \"case when dpd_new >= 30 and open_flag_36 = 1 then 1 else 0 end as 30_36_dpd_flag\",\n",
    "       \"case when dpd_new >= 60 and open_flag_3 = 1 then 1 else 0 end as 60_3_dpd_flag\",\n",
    "       \"case when dpd_new >= 60 and open_flag_12 = 1 then 1 else 0 end as 60_12_dpd_flag\",\n",
    "       \"case when dpd_new >= 60 and open_flag_36 = 1 then 1 else 0 end as 60_36_dpd_flag\",\n",
    "       \"case when dpd_new >= 90 and open_flag_3 = 1 then 1 else 0 end as 90_3_dpd_flag\",\n",
    "       \"case when dpd_new >= 90 and open_flag_12 = 1 then 1 else 0 end as 90_12_dpd_flag\",\n",
    "       \"case when dpd_new >= 90 and open_flag_36 = 1 then 1 else 0 end as 90_36_dpd_flag\",\n",
    "       \"case when dpd_new >= 180 and open_flag_3 = 1 then 1 else 0 end as 180_3_dpd_flag\",\n",
    "       \"case when dpd_new >= 180 and open_flag_12 = 1 then 1 else 0 end as 180_12_dpd_flag\",\n",
    "       \"case when dpd_new >= 180 and open_flag_36 = 1 then 1 else 0 end as 180_36_dpd_flag\",\n",
    "       \"case when 30_3_dpd_flag = 1 and product_type = 'PL' then 1 else 0 end as 30_3_dpd_PL_flag\",\n",
    "       \"case when 30_12_dpd_flag = 1 and product_type = 'PL' then 1 else 0 end as 30_12_dpd_PL_flag\",\n",
    "       \"case when 30_36_dpd_flag = 1 and product_type = 'PL' then 1 else 0 end as 30_36_dpd_PL_flag\",\n",
    "       \"case when 90_3_dpd_flag = 1 and product_type = 'PL' then 1 else 0 end as 90_3_dpd_PL_flag\",\n",
    "       \"case when 90_12_dpd_flag = 1 and product_type = 'PL' then 1 else 0 end as 90_12_dpd_PL_flag\",\n",
    "       \"case when 90_36_dpd_flag = 1 and product_type = 'PL' then 1 else 0 end as 90_36_dpd_PL_flag\",\n",
    "       \"case when 180_3_dpd_flag = 1 and product_type = 'PL' then 1 else 0 end as 180_3_dpd_PL_flag\",\n",
    "       \"case when 180_12_dpd_flag = 1 and product_type = 'PL' then 1 else 0 end as 180_12_dpd_PL_flag\",\n",
    "       \"case when 180_36_dpd_flag = 1 and product_type = 'PL' then 1 else 0 end as 180_36_dpd_PL_flag\",\n",
    "       \"case when 30_3_dpd_flag = 1 and product_type = 'CC' then 1 else 0 end as 30_3_dpd_CC_flag\",\n",
    "       \"case when 30_12_dpd_flag = 1 and product_type = 'CC' then 1 else 0 end as 30_12_dpd_CC_flag\",\n",
    "       \"case when 30_36_dpd_flag = 1 and product_type = 'CC' then 1 else 0 end as 30_36_dpd_CC_flag\",\n",
    "       \"case when 90_3_dpd_flag = 1 and product_type = 'CC' then 1 else 0 end as 90_3_dpd_CC_flag\",\n",
    "       \"case when 90_12_dpd_flag = 1 and product_type = 'CC' then 1 else 0 end as 90_12_dpd_CC_flag\",\n",
    "       \"case when 90_36_dpd_flag = 1 and product_type = 'CC' then 1 else 0 end as 90_36_dpd_CC_flag\",\n",
    "       \"case when 180_3_dpd_flag = 1 and product_type = 'CC' then 1 else 0 end as 180_3_dpd_CC_flag\",\n",
    "       \"case when 180_12_dpd_flag = 1 and product_type = 'CC' then 1 else 0 end as 180_12_dpd_CC_flag\",\n",
    "       \"case when 180_36_dpd_flag = 1 and product_type = 'CC' then 1 else 0 end as 180_36_dpd_CC_flag\",\n",
    "       \"case when 30_3_dpd_flag = 1 and risk_type = 'Unsecured' then 1 else 0 end as 30_3_dpd_unsecured_flag\",\n",
    "       \"case when 30_12_dpd_flag = 1 and risk_type = 'Unsecured' then 1 else 0 end as 30_12_dpd_unsecured_flag\",\n",
    "       \"case when 30_36_dpd_flag = 1 and risk_type = 'Unsecured' then 1 else 0 end as 30_36_dpd_unsecured_flag\",\n",
    "       \"case when 90_3_dpd_flag = 1 and risk_type = 'Unsecured' then 1 else 0 end as 90_3_dpd_unsecured_flag\",\n",
    "       \"case when 90_12_dpd_flag = 1 and risk_type = 'Unsecured' then 1 else 0 end as 90_12_dpd_unsecured_flag\",\n",
    "       \"case when 90_36_dpd_flag = 1 and risk_type = 'Unsecured' then 1 else 0 end as 90_36_dpd_unsecured_flag\",\n",
    "       \"case when 180_3_dpd_flag = 1 and risk_type = 'Unsecured' then 1 else 0 end as 180_3_dpd_unsecured_flag\",\n",
    "       \"case when 180_12_dpd_flag = 1 and risk_type = 'Unsecured' then 1 else 0 end as 180_12_dpd_unsecured_flag\",\n",
    "       \"case when 180_36_dpd_flag = 1 and risk_type = 'Unsecured' then 1 else 0 end as 180_36_dpd_unsecured_flag\",\n",
    "       \"case when open_flag_3 = 1 then dpd_new else 0 end as 3_dpd\",\n",
    "       \"case when open_flag_12 = 1 then dpd_new else 0 end as 12_dpd\",\n",
    "       \"case when open_flag_36 = 1 then dpd_new else 0 end as 36_dpd\",\n",
    "       \"case when open_flag_3 = 1 and product_type = 'PL' then dpd_new else 0 end as 3_dpd_PL\",\n",
    "       \"case when open_flag_12 = 1 and product_type = 'PL' then dpd_new else 0 end as 12_dpd_PL\",\n",
    "       \"case when open_flag_36 = 1 and product_type = 'PL' then dpd_new else 0 end as 36_dpd_PL\",\n",
    "       \"case when open_flag_3 = 1 and risk_type = 'Unsecured' then dpd_new else 0 end as 3_dpd_unsecured\",\n",
    "       \"case when open_flag_12 = 1 and risk_type = 'Unsecured' then dpd_new else 0 end as 12_dpd_unsecured\",\n",
    "       \"case when open_flag_36 = 1 and risk_type = 'Unsecured' then dpd_new else 0 end as 36_dpd_unsecured\"             \n",
    "      ]"
   ]
  },
  {
   "cell_type": "code",
   "execution_count": 14,
   "id": "d6487473-f1f7-4f41-9235-855b757e1f57",
   "metadata": {},
   "outputs": [],
   "source": [
    "tradeline = tradeline.selectExpr(exp_tradeline)"
   ]
  },
  {
   "cell_type": "code",
   "execution_count": 15,
   "id": "f9af8169-fc04-4d06-b17f-3a21723d185a",
   "metadata": {},
   "outputs": [
    {
     "name": "stderr",
     "output_type": "stream",
     "text": [
      "[Stage 41:>                                                         (0 + 1) / 1]\r"
     ]
    },
    {
     "name": "stdout",
     "output_type": "stream",
     "text": [
      "+--------------------+------------------+-------------+--------------+----------------+---------------------+---------------------+---------------------+----------------------+---------------+---------------+---------------+--------------------+------------------------+------------------------+------------------------+-------------------------+---------------+------------------------+------------------------+------------------------+-------------------------+--------------------+----------------------+-------------------------------+-------------------------------+-------------------------------+--------------------------------+------------------------+----------------------+--------------------------------+----------------------------------+------------------------+----------------------------------+-------------+----------------+----------------+----------------+----------------+----------------+----------------+-----------------------+--------------------------+--------------------------+--------------------------+--------------------------+--------------------------+--------------------------+---------------------+------------------------------+-------------------------------------+-------------------------+--------------------------+--------------------------+----------------------------+-----------------------------+-----------------------------+-----------------------------------+------------------------------------+------------------------------------+--------------------------------------+---------------------------------------+---------------------------------------+----------------------------+-----------------------------+-----------------------------+-------------------------------+--------------------------------+--------------------------------+---------------------+---------------------+---------------------+---------------------+------------------+-------------------+-------------+--------------+--------------+-------------+--------------+--------------+--------------+---------------+---------------+--------------+---------------+---------------+--------------+---------------+---------------+---------------+----------------+----------------+-----------------+------------------+------------------+-----------------+------------------+------------------+------------------+-------------------+-------------------+-----------------+------------------+------------------+-----------------+------------------+------------------+------------------+-------------------+-------------------+------------------------+-------------------------+-------------------------+------------------------+-------------------------+-------------------------+-------------------------+--------------------------+--------------------------+---------+----------+----------+------------+-------------+-------------+-------------------+--------------------+--------------------+\n",
      "|FB_TRANSACTION_ID   |max_vintage_bureau|first_product|latest_product|total_nbr_trades|total_trades_in_last1|total_trades_in_last3|total_trades_in_last6|total_trades_in_last12|total_HL_trades|total_BL_trades|total_PL_trades|total_live_PL_trades|total_PL_trades_in_last1|total_PL_trades_in_last3|total_PL_trades_in_last6|total_PL_trades_in_last12|total_CC_trades|total_CC_trades_in_last1|total_CC_trades_in_last3|total_CC_trades_in_last6|total_CC_trades_in_last12|total_Secured_trades|total_Unsecured_trades|total_Unsecured_trades_in_last1|total_Unsecured_trades_in_last3|total_Unsecured_trades_in_last6|total_Unsecured_trades_in_last12|total_installment_trades|total_live_trades_M0_2|total_unsecured_live_trades_M0_2|total_installment_live_trades_M0_2|diff_live_trades_M02_M68|diff_unsecured_live_trades_M02_M68|total_balance|total_PL_balance|total_BL_balance|total_CD_balance|total_AL_balance|total_HL_balance|total_CC_balance|total_sanctioned_amount|total_sanctioned_PL_amount|total_sanctioned_BL_amount|total_sanctioned_CD_amount|total_sanctioned_AL_amount|total_sanctioned_HL_amount|total_sanctioned_CC_amount|total_past_due_amount|total_writtenoff_suit_accounts|total_writtenoff_suit_accounts_last36|avg_days_open_loans_last6|avg_days_open_loans_last12|avg_days_open_loans_last36|median_days_open_loans_last6|median_days_open_loans_last12|median_days_open_loans_last36|avg_days_unsecured_open_loans_last6|avg_days_unsecured_open_loans_last12|avg_days_unsecured_open_loans_last36|median_days_unsecured_open_loans_last6|median_days_unsecured_open_loans_last12|median_days_unsecured_open_loans_last36|avg_days_PL_open_loans_last6|avg_days_PL_open_loans_last12|avg_days_PL_open_loans_last36|median_days_PL_open_loans_last6|median_days_PL_open_loans_last12|median_days_PL_open_loans_last36|avg_PL_vintage_last36|avg_BL_vintage_last36|avg_CC_vintage_last36|avg_CD_vintage_last36|avg_CC_micro      |avg_CC_macro       |total_0_3_dpd|total_0_12_dpd|total_0_36_dpd|total_1_3_dpd|total_1_12_dpd|total_1_36_dpd|total_30_3_dpd|total_30_12_dpd|total_30_36_dpd|total_60_3_dpd|total_60_12_dpd|total_60_36_dpd|total_90_3_dpd|total_90_12_dpd|total_90_36_dpd|total_180_3_dpd|total_180_12_dpd|total_180_36_dpd|total_30_3_dpd_PL|total_30_12_dpd_PL|total_30_36_dpd_PL|total_90_3_dpd_PL|total_90_12_dpd_PL|total_90_36_dpd_PL|total_180_3_dpd_PL|total_180_12_dpd_PL|total_180_36_dpd_PL|total_30_3_dpd_CC|total_30_12_dpd_CC|total_30_36_dpd_CC|total_90_3_dpd_CC|total_90_12_dpd_CC|total_90_36_dpd_CC|total_180_3_dpd_CC|total_180_12_dpd_CC|total_180_36_dpd_CC|total_30_3_dpd_unsecured|total_30_12_dpd_unsecured|total_30_36_dpd_unsecured|total_90_3_dpd_unsecured|total_90_12_dpd_unsecured|total_90_36_dpd_unsecured|total_180_3_dpd_unsecured|total_180_12_dpd_unsecured|total_180_36_dpd_unsecured|max_3_dpd|max_12_dpd|max_36_dpd|max_3_dpd_PL|max_12_dpd_PL|max_36_dpd_PL|max_3_dpd_unsecured|max_12_dpd_unsecured|max_36_dpd_unsecured|\n",
      "+--------------------+------------------+-------------+--------------+----------------+---------------------+---------------------+---------------------+----------------------+---------------+---------------+---------------+--------------------+------------------------+------------------------+------------------------+-------------------------+---------------+------------------------+------------------------+------------------------+-------------------------+--------------------+----------------------+-------------------------------+-------------------------------+-------------------------------+--------------------------------+------------------------+----------------------+--------------------------------+----------------------------------+------------------------+----------------------------------+-------------+----------------+----------------+----------------+----------------+----------------+----------------+-----------------------+--------------------------+--------------------------+--------------------------+--------------------------+--------------------------+--------------------------+---------------------+------------------------------+-------------------------------------+-------------------------+--------------------------+--------------------------+----------------------------+-----------------------------+-----------------------------+-----------------------------------+------------------------------------+------------------------------------+--------------------------------------+---------------------------------------+---------------------------------------+----------------------------+-----------------------------+-----------------------------+-------------------------------+--------------------------------+--------------------------------+---------------------+---------------------+---------------------+---------------------+------------------+-------------------+-------------+--------------+--------------+-------------+--------------+--------------+--------------+---------------+---------------+--------------+---------------+---------------+--------------+---------------+---------------+---------------+----------------+----------------+-----------------+------------------+------------------+-----------------+------------------+------------------+------------------+-------------------+-------------------+-----------------+------------------+------------------+-----------------+------------------+------------------+------------------+-------------------+-------------------+------------------------+-------------------------+-------------------------+------------------------+-------------------------+-------------------------+-------------------------+--------------------------+--------------------------+---------+----------+----------+------------+-------------+-------------+-------------------+--------------------+--------------------+\n",
      "|FAST1167168558886728|100.0             |10           |NULL          |462             |0                    |5                    |22                   |64                    |0              |0              |310            |123                 |0                       |4                       |21                      |57                       |151            |0                       |1                       |1                       |7                        |0                   |462                   |0                              |5                              |22                             |64                              |311                     |241                   |241                             |126                               |16                      |16                                |2.5265258E7  |2.0685088E7     |0.0             |20830.0         |0.0             |0.0             |4559340.0       |9.9099264E7            |9.1370306E7               |0.0                       |20830.0                   |0.0                       |0.0                       |7708128.0                 |0.0                  |0                             |0                                    |-0.3593073593073593      |-0.7316017316017316       |-2.3376623376623376       |0.0                         |0.0                          |0.0                          |-0.3593073593073593                |-0.7316017316017316                 |-2.3376623376623376                 |0.0                                   |0.0                                    |0.0                                    |-0.354978354978355          |-0.7121212121212122          |-2.2705627705627704          |0.0                            |0.0                             |0.0                             |6.809523809523809    |0.0                  |0.10606060606060606  |0.0367965367965368   |5.0013813292116485|0.28596753659843926|5            |64            |177           |0            |3             |3             |0             |0              |0              |0             |0              |0              |0             |0              |0              |0              |0               |0               |0                |0                 |0                 |0                |0                 |0                 |0                 |0                  |0                  |0                |0                 |0                 |0                |0                 |0                 |0                 |0                  |0                  |0                       |0                        |0                        |0                       |0                        |0                        |0                        |0                         |0                         |0        |1         |1         |0           |1            |1            |0                  |1                   |1                   |\n",
      "+--------------------+------------------+-------------+--------------+----------------+---------------------+---------------------+---------------------+----------------------+---------------+---------------+---------------+--------------------+------------------------+------------------------+------------------------+-------------------------+---------------+------------------------+------------------------+------------------------+-------------------------+--------------------+----------------------+-------------------------------+-------------------------------+-------------------------------+--------------------------------+------------------------+----------------------+--------------------------------+----------------------------------+------------------------+----------------------------------+-------------+----------------+----------------+----------------+----------------+----------------+----------------+-----------------------+--------------------------+--------------------------+--------------------------+--------------------------+--------------------------+--------------------------+---------------------+------------------------------+-------------------------------------+-------------------------+--------------------------+--------------------------+----------------------------+-----------------------------+-----------------------------+-----------------------------------+------------------------------------+------------------------------------+--------------------------------------+---------------------------------------+---------------------------------------+----------------------------+-----------------------------+-----------------------------+-------------------------------+--------------------------------+--------------------------------+---------------------+---------------------+---------------------+---------------------+------------------+-------------------+-------------+--------------+--------------+-------------+--------------+--------------+--------------+---------------+---------------+--------------+---------------+---------------+--------------+---------------+---------------+---------------+----------------+----------------+-----------------+------------------+------------------+-----------------+------------------+------------------+------------------+-------------------+-------------------+-----------------+------------------+------------------+-----------------+------------------+------------------+------------------+-------------------+-------------------+------------------------+-------------------------+-------------------------+------------------------+-------------------------+-------------------------+-------------------------+--------------------------+--------------------------+---------+----------+----------+------------+-------------+-------------+-------------------+--------------------+--------------------+\n",
      "only showing top 1 row\n",
      "\n"
     ]
    },
    {
     "name": "stderr",
     "output_type": "stream",
     "text": [
      "                                                                                \r"
     ]
    }
   ],
   "source": [
    "df_tradeline = tradeline.groupBy(\"FB_TRANSACTION_ID\").agg(\n",
    "    F.max(\"vintage_bureau\").alias(\"max_vintage_bureau\"),\n",
    "    F.first(\"first_product\").alias(\"first_product\"),\n",
    "    F.first(\"latest_product\").alias(\"latest_product\"),\n",
    "    F.count(\"FB_TRANSACTION_ID\").alias(\"total_nbr_trades\"),\n",
    "    F.sum(\"open_flag_1\").alias(\"total_trades_in_last1\"),\n",
    "    F.sum(\"open_flag_3\").alias(\"total_trades_in_last3\"),\n",
    "    F.sum(\"open_flag_6\").alias(\"total_trades_in_last6\"),\n",
    "    F.sum(\"open_flag_12\").alias(\"total_trades_in_last12\"),\n",
    "    F.sum(\"HL_flag\").alias(\"total_HL_trades\"),\n",
    "    F.sum(\"BL_flag\").alias(\"total_BL_trades\"),\n",
    "    F.sum(\"PL_flag\").alias(\"total_PL_trades\"),\n",
    "    F.sum(\"PL_live_flag\").alias(\"total_live_PL_trades\"),\n",
    "    F.sum(\"PL_open_flag_1\").alias(\"total_PL_trades_in_last1\"),\n",
    "    F.sum(\"PL_open_flag_3\").alias(\"total_PL_trades_in_last3\"),\n",
    "    F.sum(\"PL_open_flag_6\").alias(\"total_PL_trades_in_last6\"),\n",
    "    F.sum(\"PL_open_flag_12\").alias(\"total_PL_trades_in_last12\"),\n",
    "    F.sum(\"CC_flag\").alias(\"total_CC_trades\"),\n",
    "    F.sum(\"CC_open_flag_1\").alias(\"total_CC_trades_in_last1\"),\n",
    "    F.sum(\"CC_open_flag_3\").alias(\"total_CC_trades_in_last3\"),\n",
    "    F.sum(\"CC_open_flag_6\").alias(\"total_CC_trades_in_last6\"),\n",
    "    F.sum(\"CC_open_flag_12\").alias(\"total_CC_trades_in_last12\"),\n",
    "    F.sum(\"Secured_flag\").alias(\"total_Secured_trades\"),\n",
    "    F.sum(\"Unsecured_flag\").alias(\"total_Unsecured_trades\"),\n",
    "    F.sum(\"Unsecured_open_flag_1\").alias(\"total_Unsecured_trades_in_last1\"),\n",
    "    F.sum(\"Unsecured_open_flag_3\").alias(\"total_Unsecured_trades_in_last3\"),\n",
    "    F.sum(\"Unsecured_open_flag_6\").alias(\"total_Unsecured_trades_in_last6\"),\n",
    "    F.sum(\"Unsecured_open_flag_12\").alias(\"total_Unsecured_trades_in_last12\"),\n",
    "    F.sum(\"installment_flag\").alias(\"total_installment_trades\"),\n",
    "    F.sum(\"M0_2_live_flag\").alias(\"total_live_trades_M0_2\"),\n",
    "    F.sum(\"M0_2_unsecured_live_flag\").alias(\"total_unsecured_live_trades_M0_2\"),\n",
    "    F.sum(\"M0_2_installment_live_flag\").alias(\"total_installment_live_trades_M0_2\"),\n",
    "    F.abs(F.sum(\"M0_2_live_flag\") - F.sum(\"M6_8_live_flag\")).alias(\"diff_live_trades_M02_M68\"),\n",
    "    F.abs(F.sum(\"M0_2_unsecured_live_flag\") - F.sum(\"M6_8_unsecured_live_flag\")).alias(\"diff_unsecured_live_trades_M02_M68\"),\n",
    "    F.sum(\"CURRENT_BALANCE\").alias(\"total_balance\"),\n",
    "    F.sum(\"PL_balance\").alias(\"total_PL_balance\"),\n",
    "    F.sum(\"BL_balance\").alias(\"total_BL_balance\"),\n",
    "    F.sum(\"CD_balance\").alias(\"total_CD_balance\"),\n",
    "    F.sum(\"AL_balance\").alias(\"total_AL_balance\"),\n",
    "    F.sum(\"HL_balance\").alias(\"total_HL_balance\"),\n",
    "    F.sum(\"CC_balance\").alias(\"total_CC_balance\"),\n",
    "    F.sum(\"HIGHEST_CREDIT_OR_LOAN_AMOUNT\").alias(\"total_sanctioned_amount\"),\n",
    "    F.sum(\"PL_sanctioned_amount\").alias(\"total_sanctioned_PL_amount\"),\n",
    "    F.sum(\"BL_sanctioned_amount\").alias(\"total_sanctioned_BL_amount\"),\n",
    "    F.sum(\"CD_sanctioned_amount\").alias(\"total_sanctioned_CD_amount\"),\n",
    "    F.sum(\"AL_sanctioned_amount\").alias(\"total_sanctioned_AL_amount\"),\n",
    "    F.sum(\"HL_sanctioned_amount\").alias(\"total_sanctioned_HL_amount\"),\n",
    "    F.sum(\"CC_sanctioned_amount\").alias(\"total_sanctioned_CC_amount\"),\n",
    "    F.sum(\"AMOUNT_OVERDUE\").alias(\"total_past_due_amount\"),\n",
    "    F.sum(\"writtenoff_suit_flag\").alias(\"total_writtenoff_suit_accounts\"),\n",
    "    F.sum(\"writtenoff_suit_last36_flag\").alias(\"total_writtenoff_suit_accounts_last36\"),\n",
    "    F.avg(\"days_open_last6\").alias(\"avg_days_open_loans_last6\"),\n",
    "    F.avg(\"days_open_last12\").alias(\"avg_days_open_loans_last12\"),\n",
    "    F.avg(\"days_open_last36\").alias(\"avg_days_open_loans_last36\"),\n",
    "    F.median(\"days_open_last6\").alias(\"median_days_open_loans_last6\"),\n",
    "    F.median(\"days_open_last12\").alias(\"median_days_open_loans_last12\"),\n",
    "    F.median(\"days_open_last36\").alias(\"median_days_open_loans_last36\"),\n",
    "    F.avg(\"days_unsecured_open_last6\").alias(\"avg_days_unsecured_open_loans_last6\"),\n",
    "    F.avg(\"days_unsecured_open_last12\").alias(\"avg_days_unsecured_open_loans_last12\"),\n",
    "    F.avg(\"days_unsecured_open_last36\").alias(\"avg_days_unsecured_open_loans_last36\"),\n",
    "    F.median(\"days_unsecured_open_last6\").alias(\"median_days_unsecured_open_loans_last6\"),\n",
    "    F.median(\"days_unsecured_open_last12\").alias(\"median_days_unsecured_open_loans_last12\"),\n",
    "    F.median(\"days_unsecured_open_last36\").alias(\"median_days_unsecured_open_loans_last36\"),\n",
    "    F.avg(\"days_PL_open_last6\").alias(\"avg_days_PL_open_loans_last6\"),\n",
    "    F.avg(\"days_PL_open_last12\").alias(\"avg_days_PL_open_loans_last12\"),\n",
    "    F.avg(\"days_PL_open_last36\").alias(\"avg_days_PL_open_loans_last36\"),\n",
    "    F.median(\"days_PL_open_last6\").alias(\"median_days_PL_open_loans_last6\"),\n",
    "    F.median(\"days_PL_open_last12\").alias(\"median_days_PL_open_loans_last12\"),\n",
    "    F.median(\"days_PL_open_last36\").alias(\"median_days_PL_open_loans_last36\"),\n",
    "    F.avg(\"PL_vintage_last36\").alias(\"avg_PL_vintage_last36\"),\n",
    "    F.avg(\"BL_vintage_last36\").alias(\"avg_BL_vintage_last36\"),\n",
    "    F.avg(\"CC_vintage_last36\").alias(\"avg_CC_vintage_last36\"),\n",
    "    F.avg(\"CD_vintage_last36\").alias(\"avg_CD_vintage_last36\"),\n",
    "    F.abs(F.sum(\"CURRENT_BALANCE\")/F.sum(\"CREDIT_LIMIT\")).alias(\"avg_CC_micro\"),\n",
    "    F.abs(F.sum(\"CC_util\")/F.sum(\"CC_flag\")).alias(\"avg_CC_macro\"),\n",
    "    F.sum(\"0_3_dpd_flag\").alias(\"total_0_3_dpd\"),\n",
    "    F.sum(\"0_12_dpd_flag\").alias(\"total_0_12_dpd\"),\n",
    "    F.sum(\"0_36_dpd_flag\").alias(\"total_0_36_dpd\"),\n",
    "    F.sum(\"1_3_dpd_flag\").alias(\"total_1_3_dpd\"),\n",
    "    F.sum(\"1_12_dpd_flag\").alias(\"total_1_12_dpd\"),\n",
    "    F.sum(\"1_36_dpd_flag\").alias(\"total_1_36_dpd\"),\n",
    "    F.sum(\"30_3_dpd_flag\").alias(\"total_30_3_dpd\"),\n",
    "    F.sum(\"30_12_dpd_flag\").alias(\"total_30_12_dpd\"),\n",
    "    F.sum(\"30_36_dpd_flag\").alias(\"total_30_36_dpd\"),\n",
    "    F.sum(\"60_3_dpd_flag\").alias(\"total_60_3_dpd\"),\n",
    "    F.sum(\"60_12_dpd_flag\").alias(\"total_60_12_dpd\"),\n",
    "    F.sum(\"60_36_dpd_flag\").alias(\"total_60_36_dpd\"),\n",
    "    F.sum(\"90_3_dpd_flag\").alias(\"total_90_3_dpd\"),\n",
    "    F.sum(\"90_12_dpd_flag\").alias(\"total_90_12_dpd\"),\n",
    "    F.sum(\"90_36_dpd_flag\").alias(\"total_90_36_dpd\"),\n",
    "    F.sum(\"180_3_dpd_flag\").alias(\"total_180_3_dpd\"),\n",
    "    F.sum(\"180_12_dpd_flag\").alias(\"total_180_12_dpd\"),\n",
    "    F.sum(\"180_36_dpd_flag\").alias(\"total_180_36_dpd\"),\n",
    "    F.sum(\"30_3_dpd_PL_flag\").alias(\"total_30_3_dpd_PL\"),\n",
    "    F.sum(\"30_12_dpd_PL_flag\").alias(\"total_30_12_dpd_PL\"),\n",
    "    F.sum(\"30_36_dpd_PL_flag\").alias(\"total_30_36_dpd_PL\"),\n",
    "    F.sum(\"90_3_dpd_PL_flag\").alias(\"total_90_3_dpd_PL\"),\n",
    "    F.sum(\"90_12_dpd_PL_flag\").alias(\"total_90_12_dpd_PL\"),\n",
    "    F.sum(\"90_36_dpd_PL_flag\").alias(\"total_90_36_dpd_PL\"),\n",
    "    F.sum(\"180_3_dpd_PL_flag\").alias(\"total_180_3_dpd_PL\"),\n",
    "    F.sum(\"180_12_dpd_PL_flag\").alias(\"total_180_12_dpd_PL\"),\n",
    "    F.sum(\"180_36_dpd_PL_flag\").alias(\"total_180_36_dpd_PL\"),\n",
    "    F.sum(\"30_3_dpd_CC_flag\").alias(\"total_30_3_dpd_CC\"),\n",
    "    F.sum(\"30_12_dpd_CC_flag\").alias(\"total_30_12_dpd_CC\"),\n",
    "    F.sum(\"30_36_dpd_CC_flag\").alias(\"total_30_36_dpd_CC\"),\n",
    "    F.sum(\"90_3_dpd_CC_flag\").alias(\"total_90_3_dpd_CC\"),\n",
    "    F.sum(\"90_12_dpd_CC_flag\").alias(\"total_90_12_dpd_CC\"),\n",
    "    F.sum(\"90_36_dpd_CC_flag\").alias(\"total_90_36_dpd_CC\"),\n",
    "    F.sum(\"180_3_dpd_CC_flag\").alias(\"total_180_3_dpd_CC\"),\n",
    "    F.sum(\"180_12_dpd_CC_flag\").alias(\"total_180_12_dpd_CC\"),\n",
    "    F.sum(\"180_36_dpd_CC_flag\").alias(\"total_180_36_dpd_CC\"),\n",
    "    F.sum(\"30_3_dpd_unsecured_flag\").alias(\"total_30_3_dpd_unsecured\"),\n",
    "    F.sum(\"30_12_dpd_unsecured_flag\").alias(\"total_30_12_dpd_unsecured\"),\n",
    "    F.sum(\"30_36_dpd_unsecured_flag\").alias(\"total_30_36_dpd_unsecured\"),\n",
    "    F.sum(\"90_3_dpd_unsecured_flag\").alias(\"total_90_3_dpd_unsecured\"),\n",
    "    F.sum(\"90_12_dpd_unsecured_flag\").alias(\"total_90_12_dpd_unsecured\"),\n",
    "    F.sum(\"90_36_dpd_unsecured_flag\").alias(\"total_90_36_dpd_unsecured\"),\n",
    "    F.sum(\"180_3_dpd_unsecured_flag\").alias(\"total_180_3_dpd_unsecured\"),\n",
    "    F.sum(\"180_12_dpd_unsecured_flag\").alias(\"total_180_12_dpd_unsecured\"),\n",
    "    F.sum(\"180_36_dpd_unsecured_flag\").alias(\"total_180_36_dpd_unsecured\"),\n",
    "    F.max(\"3_dpd\").alias(\"max_3_dpd\"),\n",
    "    F.max(\"12_dpd\").alias(\"max_12_dpd\"),\n",
    "    F.max(\"36_dpd\").alias(\"max_36_dpd\"),\n",
    "    F.max(\"3_dpd_PL\").alias(\"max_3_dpd_PL\"),\n",
    "    F.max(\"12_dpd_PL\").alias(\"max_12_dpd_PL\"),\n",
    "    F.max(\"36_dpd_PL\").alias(\"max_36_dpd_PL\"),\n",
    "    F.max(\"3_dpd_unsecured\").alias(\"max_3_dpd_unsecured\"),\n",
    "    F.max(\"12_dpd_unsecured\").alias(\"max_12_dpd_unsecured\"),\n",
    "    F.max(\"36_dpd_unsecured\").alias(\"max_36_dpd_unsecured\")\n",
    "    \n",
    ")\n",
    "df_tradeline.show(truncate=False, n=1)"
   ]
  },
  {
   "cell_type": "code",
   "execution_count": 30,
   "id": "36543d46-fd43-48f2-a546-ed99baa9b5d9",
   "metadata": {},
   "outputs": [
    {
     "name": "stderr",
     "output_type": "stream",
     "text": [
      "[Stage 102:>                                                        (0 + 1) / 1]\r"
     ]
    },
    {
     "name": "stdout",
     "output_type": "stream",
     "text": [
      "+--------------------+-------------+--------------+\n",
      "|   FB_TRANSACTION_ID|first_product|latest_product|\n",
      "+--------------------+-------------+--------------+\n",
      "|FAST1167168558886728|           10|            10|\n",
      "|FAST1167184128342981|           31|            31|\n",
      "|FAST1167376146175796|            6|             6|\n",
      "|FAST1167488592897943|            5|             5|\n",
      "|FAST1167527658135697|            7|             7|\n",
      "|FAST1167547366918513|            5|             5|\n",
      "|FAST1167567882284581|            6|             6|\n",
      "|FAST1167575478888941|            5|             5|\n",
      "|FAST1167598348139538|            6|             6|\n",
      "|FAST1167599381961472|            5|             5|\n",
      "|FAST1167623961447289|            5|             5|\n",
      "|FAST1167678589554798|            5|             5|\n",
      "|FAST1167681766742791|            6|             6|\n",
      "|FAST1167788445759386|            5|             5|\n",
      "|FAST1167815891624216|            6|             6|\n",
      "|FAST1167829774884827|            5|             5|\n",
      "|FAST1167834498312971|            6|             6|\n",
      "|FAST1167848264916175|            5|             5|\n",
      "|FAST1167853599394921|            5|             5|\n",
      "|FAST1167868528849184|            5|             5|\n",
      "+--------------------+-------------+--------------+\n",
      "only showing top 20 rows\n",
      "\n"
     ]
    },
    {
     "name": "stderr",
     "output_type": "stream",
     "text": [
      "                                                                                \r"
     ]
    }
   ],
   "source": [
    "df_tradeline.select('FB_TRANSACTION_ID','first_product', 'latest_product').show()"
   ]
  },
  {
   "cell_type": "markdown",
   "id": "6b252ffa-802f-4026-af4f-c260624575a0",
   "metadata": {},
   "source": [
    "## Inquiry Features"
   ]
  },
  {
   "cell_type": "code",
   "execution_count": 16,
   "id": "3a1101a7-b2c9-4e7e-8b6c-9ac978b1eea4",
   "metadata": {},
   "outputs": [],
   "source": [
    "w1 = Window.partitionBy(\"FB_TRANSACTION_ID\", \"DATE_OF_ENQUIRY\", \"ACCOUNT_TYPE_CODE\").orderBy(F.desc('ENQUIRY_AMOUNT'))\n",
    "w2 = Window.partitionBy(\"FB_TRANSACTION_ID\").orderBy(F.asc(\"DATE_OF_ENQUIRY\"))\n",
    "df_inq1 =  df_inq.withColumn('lagged_enq_dates', F.lag('DATE_OF_ENQUIRY').over(w2))\\\n",
    "                 .withColumn('row_no', F.row_number().over(w1)).filter(\"row_no = 1\")\n"
   ]
  },
  {
   "cell_type": "code",
   "execution_count": 17,
   "id": "25434138-b706-44d8-a945-628ccae42e64",
   "metadata": {},
   "outputs": [
    {
     "name": "stderr",
     "output_type": "stream",
     "text": [
      "[Stage 42:==============================================>           (4 + 1) / 5]\r"
     ]
    },
    {
     "name": "stdout",
     "output_type": "stream",
     "text": [
      "+--------------------+-----------------------+-------------------+---------------+-----------------+--------------+-------------------+----------------+------+\n",
      "|   FB_TRANSACTION_ID|BUREAU_REFERENCE_NUMBER|ENQUIRY_MEMBER_NAME|DATE_OF_ENQUIRY|ACCOUNT_TYPE_CODE|ENQUIRY_AMOUNT|         CREATED_AT|lagged_enq_dates|row_no|\n",
      "+--------------------+-----------------------+-------------------+---------------+-----------------+--------------+-------------------+----------------+------+\n",
      "|FAST1167168558886728|   BURE1176451823136D53|      NOT DISCLOSED|     2014-07-29|               10|       10000.0|2022-12-18 12:01:44|            NULL|     1|\n",
      "|FAST1167168558886728|   BURE1176451823136D53|      NOT DISCLOSED|     2015-04-27|               10|       50000.0|2022-12-18 12:01:44|      2014-07-29|     1|\n",
      "+--------------------+-----------------------+-------------------+---------------+-----------------+--------------+-------------------+----------------+------+\n",
      "only showing top 2 rows\n",
      "\n"
     ]
    },
    {
     "name": "stderr",
     "output_type": "stream",
     "text": [
      "                                                                                \r"
     ]
    }
   ],
   "source": [
    "df_inq1.show(2)"
   ]
  },
  {
   "cell_type": "code",
   "execution_count": 18,
   "id": "11bd0d77-da88-4dac-b90e-ce64070040c4",
   "metadata": {},
   "outputs": [],
   "source": [
    "df_inq_trunc = df_inq1.withColumn(\"DATE_OF_ENQUIRY_TRUNC\", F.trunc(F.col(\"DATE_OF_ENQUIRY\"), \"month\"))\\\n",
    "                     .withColumn(\"CREATED_AT_TRUNC\", F.trunc(F.col(\"CREATED_AT\"), \"month\"))"
   ]
  },
  {
   "cell_type": "code",
   "execution_count": 19,
   "id": "a4ecbcf4-b485-4b9b-ab34-58dfda81f0cb",
   "metadata": {},
   "outputs": [
    {
     "name": "stderr",
     "output_type": "stream",
     "text": [
      "[Stage 45:==============================================>           (4 + 1) / 5]\r"
     ]
    },
    {
     "name": "stdout",
     "output_type": "stream",
     "text": [
      "+--------------------+-----------------------+-------------------+---------------+-----------------+--------------+-------------------+----------------+------+---------------------+----------------+----------+---------+\n",
      "|   FB_TRANSACTION_ID|BUREAU_REFERENCE_NUMBER|ENQUIRY_MEMBER_NAME|DATE_OF_ENQUIRY|ACCOUNT_TYPE_CODE|ENQUIRY_AMOUNT|         CREATED_AT|lagged_enq_dates|row_no|DATE_OF_ENQUIRY_TRUNC|CREATED_AT_TRUNC|month_diff|days_diff|\n",
      "+--------------------+-----------------------+-------------------+---------------+-----------------+--------------+-------------------+----------------+------+---------------------+----------------+----------+---------+\n",
      "|FAST1167168558886728|   BURE1176451823136D53|      NOT DISCLOSED|     2014-07-29|               10|       10000.0|2022-12-18 12:01:44|            NULL|     1|           2014-07-01|      2022-12-01|     101.0|     NULL|\n",
      "|FAST1167168558886728|   BURE1176451823136D53|      NOT DISCLOSED|     2015-04-27|               10|       50000.0|2022-12-18 12:01:44|      2014-07-29|     1|           2015-04-01|      2022-12-01|      92.0|      272|\n",
      "+--------------------+-----------------------+-------------------+---------------+-----------------+--------------+-------------------+----------------+------+---------------------+----------------+----------+---------+\n",
      "only showing top 2 rows\n",
      "\n"
     ]
    },
    {
     "name": "stderr",
     "output_type": "stream",
     "text": [
      "                                                                                \r"
     ]
    }
   ],
   "source": [
    "inquiry = df_inq_trunc.withColumn(\"month_diff\", F.months_between(F.col(\"CREATED_AT_TRUNC\"), F.col(\"DATE_OF_ENQUIRY_TRUNC\")))\\\n",
    "                      .withColumn(\"days_diff\", F.datediff(F.col(\"DATE_OF_ENQUIRY\"), F.col(\"lagged_enq_dates\")))\\\n",
    "                      .withColumn('ACCOUNT_TYPE_CODE', F.col('ACCOUNT_TYPE_CODE').cast('int'))\n",
    "inquiry.show(2)"
   ]
  },
  {
   "cell_type": "code",
   "execution_count": 20,
   "id": "2251d186-c4d6-4052-a331-da7ebffe1b67",
   "metadata": {},
   "outputs": [],
   "source": [
    "exp_inq = [\"*\",\n",
    "           \"case when month_diff >= 0 and month_diff < 1 then 1 else 0 end as M1_flag\",\n",
    "           \"case when month_diff >= 0 and month_diff < 3 then 1 else 0 end as M3_flag\",\n",
    "           \"case when month_diff >= 0 and month_diff < 12 then 1 else 0 end as M12_flag\",\n",
    "           \"case when month_diff >= 0 and month_diff < 36 then 1 else 0 end as M36_flag\",\n",
    "           \"\"\"case when account_type_code in (1, 51, 53, 54, 52, 50, 59, 55, 56, 57, 17, 33, 23, 7, 2, 15, 4, 40, 42, 43, 41, 44, 3, 31, 34, 13, 32) then 'Secured'\n",
    "                   when account_type_code in (61, 6, 35, 10, 8, 16, 24, 36, 37, 9, 39, 14, 0, 12, 45, 5, 38) then 'Unsecured'\n",
    "                   else null end as risk_type\n",
    "                   \"\"\",\n",
    "           \"case when M1_flag = 1 and risk_type = 'Unsecured' then 1 else 0 end as Unsecured_M1_flag\",\n",
    "           \"case when M3_flag = 1 and risk_type = 'Unsecured' then 1 else 0 end as Unsecured_M3_flag\",\n",
    "           \"case when M12_flag = 1 and risk_type = 'Unsecured' then 1 else 0 end as Unsecured_M12_flag\",\n",
    "           \"case when M36_flag = 1 and risk_type = 'Unsecured' then 1 else 0 end as Unsecured_M36_flag\",\n",
    "           \"\"\"case when account_type_code in (1, 34, 32) then 'AL'\n",
    "                   when account_type_code in  (51, 53, 54, 52, 50, 61, 59, 55, 57, 56, 23, 24, 40, 39) then 'BL'\n",
    "                   when account_type_code in (35, 10, 16, 36, 15, 31) then 'CC'\n",
    "                   when account_type_code = 6 then 'CD'\n",
    "                   when account_type_code = 33 then 'CE'\n",
    "                   when account_type_code = 17 then 'CV'\n",
    "                   when account_type_code = 8 then 'EL'\n",
    "                   when account_type_code = 7 then 'GL'\n",
    "                   when account_type_code in (2, 42, 44) then 'HL'\n",
    "                   when account_type_code = 3 then 'LAP'\n",
    "                   when account_type_code = 4 then 'LAS'\n",
    "                   when account_type_code in (12, 38) then 'OD'\n",
    "                   when account_type_code in (14, 0) then 'Other'\n",
    "                   when account_type_code in (37, 9, 43, 41, 45, 5) then 'PL'\n",
    "                   when account_type_code = 13 then 'TW'\n",
    "                   else null end as product_type\n",
    "                   \"\"\",\n",
    "           \"case when M1_flag = 1 and product_type = 'PL' then 1 else 0 end as PL_M1_flag\",\n",
    "           \"case when M3_flag = 1 and product_type = 'PL' then 1 else 0 end as PL_M3_flag\",\n",
    "           \"case when M12_flag = 1 and product_type = 'PL' then 1 else 0 end as PL_M12_flag\",\n",
    "           \"case when M36_flag = 1 and product_type = 'PL' then 1 else 0 end as PL_M36_flag\",\n",
    "           \"case when enquiry_amount >= 10000 and M1_flag = 1 then 1 else 0 end as 10_1_flag\",\n",
    "           \"case when enquiry_amount >= 10000 and M3_flag = 1 then 1 else 0 end as 10_3_flag\",\n",
    "           \"case when enquiry_amount >= 10000 and M12_flag = 1 then 1 else 0 end as 10_12_flag\",\n",
    "           \"case when enquiry_amount >= 10000 and M36_flag = 1 then 1 else 0 end as 10_36_flag\",\n",
    "           \"case when enquiry_amount >= 50000 and M1_flag = 1 then 1 else 0 end as 50_1_flag\",\n",
    "           \"case when enquiry_amount >= 50000 and M3_flag = 1 then 1 else 0 end as 50_3_flag\",\n",
    "           \"case when enquiry_amount >= 50000 and M12_flag = 1 then 1 else 0 end as 50_12_flag\",\n",
    "           \"case when enquiry_amount >= 50000 and M36_flag = 1 then 1 else 0 end as 50_36_flag\",\n",
    "           \"case when enquiry_amount >= 100000 and M1_flag = 1 then 1 else 0 end as 100_1_flag\",\n",
    "           \"case when enquiry_amount >= 100000 and M3_flag = 1 then 1 else 0 end as 100_3_flag\",\n",
    "           \"case when enquiry_amount >= 100000 and M12_flag = 1 then 1 else 0 end as 100_12_flag\",\n",
    "           \"case when enquiry_amount >= 100000 and M36_flag = 1 then 1 else 0 end as 100_36_flag\",\n",
    "           \"case when enquiry_amount >= 500000 and M1_flag = 1 then 1 else 0 end as 500_1_flag\",\n",
    "           \"case when enquiry_amount >= 500000 and M3_flag = 1 then 1 else 0 end as 500_3_flag\",\n",
    "           \"case when enquiry_amount >= 500000 and M12_flag = 1 then 1 else 0 end as 500_12_flag\",\n",
    "           \"case when enquiry_amount >= 500000 and M36_flag = 1 then 1 else 0 end as 500_36_flag\",\n",
    "           \"case when enquiry_amount >= 10000 and product_type = 'PL' and M1_flag = 1 then 1 else 0 end as PL_10_1_flag\",\n",
    "           \"case when enquiry_amount >= 10000 and product_type = 'PL' and M3_flag = 1 then 1 else 0 end as PL_10_3_flag\",\n",
    "           \"case when enquiry_amount >= 10000 and product_type = 'PL' and M12_flag = 1 then 1 else 0 end as PL_10_12_flag\",\n",
    "           \"case when enquiry_amount >= 10000 and product_type = 'PL' and M36_flag = 1 then 1 else 0 end as PL_10_36_flag\",\n",
    "           \"case when enquiry_amount >= 50000 and product_type = 'PL' and M1_flag = 1 then 1 else 0 end as PL_50_1_flag\",\n",
    "           \"case when enquiry_amount >= 50000 and product_type = 'PL' and M3_flag = 1 then 1 else 0 end as PL_50_3_flag\",\n",
    "           \"case when enquiry_amount >= 50000 and product_type = 'PL' and M12_flag = 1 then 1 else 0 end as PL_50_12_flag\",\n",
    "           \"case when enquiry_amount >= 50000 and product_type = 'PL' and M36_flag = 1 then 1 else 0 end as PL_50_36_flag\",\n",
    "           \"case when enquiry_amount >= 100000 and product_type = 'PL' and M1_flag = 1 then 1 else 0 end as PL_100_1_flag\",\n",
    "           \"case when enquiry_amount >= 100000 and product_type = 'PL' and M3_flag = 1 then 1 else 0 end as PL_100_3_flag\",\n",
    "           \"case when enquiry_amount >= 100000 and product_type = 'PL' and M12_flag = 1 then 1 else 0 end as PL_100_12_flag\",\n",
    "           \"case when enquiry_amount >= 100000 and product_type = 'PL' and M36_flag = 1 then 1 else 0 end as PL_100_36_flag\",\n",
    "           \"case when enquiry_amount >= 500000 and product_type = 'PL' and M1_flag = 1 then 1 else 0 end as PL_500_1_flag\",\n",
    "           \"case when enquiry_amount >= 500000 and product_type = 'PL' and M3_flag = 1 then 1 else 0 end as PL_500_3_flag\",\n",
    "           \"case when enquiry_amount >= 500000 and product_type = 'PL' and M12_flag = 1 then 1 else 0 end as PL_500_12_flag\",\n",
    "           \"case when enquiry_amount >= 500000 and product_type = 'PL' and M36_flag = 1 then 1 else 0 end as PL_500_36_flag\",\n",
    "           \"case when enquiry_amount >= 10000 and product_type = 'CD' and M1_flag = 1 then 1 else 0 end as CD_10_1_flag\",\n",
    "           \"case when enquiry_amount >= 10000 and product_type = 'CD' and M3_flag = 1 then 1 else 0 end as CD_10_3_flag\",\n",
    "           \"case when enquiry_amount >= 10000 and product_type = 'CD' and M12_flag = 1 then 1 else 0 end as CD_10_12_flag\",\n",
    "           \"case when enquiry_amount >= 10000 and product_type = 'CD' and M36_flag = 1 then 1 else 0 end as CD_10_36_flag\",\n",
    "           \"case when enquiry_amount >= 50000 and product_type = 'CD' and M1_flag = 1 then 1 else 0 end as CD_50_1_flag\",\n",
    "           \"case when enquiry_amount >= 50000 and product_type = 'CD' and M3_flag = 1 then 1 else 0 end as CD_50_3_flag\",\n",
    "           \"case when enquiry_amount >= 50000 and product_type = 'CD' and M12_flag = 1 then 1 else 0 end as CD_50_12_flag\",\n",
    "           \"case when enquiry_amount >= 50000 and product_type = 'CD' and M36_flag = 1 then 1 else 0 end as CD_50_36_flag\",\n",
    "           \"case when enquiry_amount >= 10000 and risk_type = 'Unsecured' and M1_flag = 1 then 1 else 0 end as Unsecured_10_1_flag\",\n",
    "           \"case when enquiry_amount >= 10000 and risk_type = 'Unsecured' and M3_flag = 1 then 1 else 0 end as Unsecured_10_3_flag\",\n",
    "           \"case when enquiry_amount >= 10000 and risk_type = 'Unsecured' and M12_flag = 1 then 1 else 0 end as Unsecured_10_12_flag\",\n",
    "           \"case when enquiry_amount >= 10000 and risk_type = 'Unsecured' and M36_flag = 1 then 1 else 0 end as Unsecured_10_36_flag\",\n",
    "           \"case when enquiry_amount >= 50000 and risk_type = 'Unsecured' and M1_flag = 1 then 1 else 0 end as Unsecured_50_1_flag\",\n",
    "           \"case when enquiry_amount >= 50000 and risk_type = 'Unsecured' and M3_flag = 1 then 1 else 0 end as Unsecured_50_3_flag\",\n",
    "           \"case when enquiry_amount >= 50000 and risk_type = 'Unsecured' and M12_flag = 1 then 1 else 0 end as Unsecured_50_12_flag\",\n",
    "           \"case when enquiry_amount >= 50000 and risk_type = 'Unsecured' and M36_flag = 1 then 1 else 0 end as Unsecured_50_36_flag\",\n",
    "           \"case when enquiry_amount >= 100000 and risk_type = 'Unsecured' and M1_flag = 1 then 1 else 0 end as Unsecured_100_1_flag\",\n",
    "           \"case when enquiry_amount >= 100000 and risk_type = 'Unsecured' and M3_flag = 1 then 1 else 0 end as Unsecured_100_3_flag\",\n",
    "           \"case when enquiry_amount >= 100000 and risk_type = 'Unsecured' and M12_flag = 1 then 1 else 0 end as Unsecured_100_12_flag\",\n",
    "           \"case when enquiry_amount >= 100000 and risk_type = 'Unsecured' and M36_flag = 1 then 1 else 0 end as Unsecured_100_36_flag\",\n",
    "           \"case when enquiry_amount >= 500000 and risk_type = 'Unsecured' and M1_flag = 1 then 1 else 0 end as Unsecured_500_1_flag\",\n",
    "           \"case when enquiry_amount >= 500000 and risk_type = 'Unsecured' and M3_flag = 1 then 1 else 0 end as Unsecured_500_3_flag\",\n",
    "           \"case when enquiry_amount >= 500000 and risk_type = 'Unsecured' and M12_flag = 1 then 1 else 0 end as Unsecured_500_12_flag\",\n",
    "           \"case when enquiry_amount >= 500000 and risk_type = 'Unsecured' and M36_flag = 1 then 1 else 0 end as Unsecured_500_36_flag\",\n",
    "           \"case when M3_flag = 1 then days_diff else 0 end as M3_days\",\n",
    "           \"case when M12_flag = 1 then days_diff else 0 end as M12_days\",\n",
    "           \"case when M36_flag = 1 then days_diff else 0 end as M36_days\",\n",
    "           \"case when Unsecured_M3_flag = 1 then days_diff else 0 end as M3_unsecured_days\",\n",
    "           \"case when Unsecured_M12_flag = 1 then days_diff else 0 end as M12_unsecured_days\",\n",
    "           \"case when Unsecured_M36_flag = 1 then days_diff else 0 end as M36_unsecured_days\",\n",
    "           \"case when PL_M3_flag = 1 then days_diff else 0 end as M3_PL_days\",\n",
    "           \"case when PL_M12_flag = 1 then days_diff else 0 end as M12_PL_days\",\n",
    "           \"case when PL_M36_flag = 1 then days_diff else 0 end as M36_PL_days\",\n",
    "          ]"
   ]
  },
  {
   "cell_type": "code",
   "execution_count": 21,
   "id": "5d93dfc9-91ff-4040-a3bc-5f4ccd01cd02",
   "metadata": {},
   "outputs": [],
   "source": [
    "inquiry = inquiry.selectExpr(exp_inq)"
   ]
  },
  {
   "cell_type": "code",
   "execution_count": 22,
   "id": "bb3c1e6c-4851-42c5-802f-4202ddd6d9b7",
   "metadata": {},
   "outputs": [],
   "source": [
    "inquiry_df = inquiry.groupBy(\"FB_TRANSACTION_ID\").agg(\n",
    "                    F.max(\"month_diff\").alias(\"oldest_inq_month\"),\n",
    "                    F.sum(\"M1_flag\").alias(\"total_inq_last1\"),\n",
    "                    F.sum(\"M3_flag\").alias(\"total_inq_last3\"),\n",
    "                    F.sum(\"M12_flag\").alias(\"total_inq_last12\"),\n",
    "                    F.sum(\"M36_flag\").alias(\"total_inq_last36\"),\n",
    "                    F.sum(\"Unsecured_M1_flag\").alias(\"total_unsecured_inq_last1\"),\n",
    "                    F.sum(\"Unsecured_M3_flag\").alias(\"total_unsecured_inq_last3\"),\n",
    "                    F.sum(\"Unsecured_M12_flag\").alias(\"total_unsecured_inq_last12\"),\n",
    "                    F.sum(\"Unsecured_M36_flag\").alias(\"total_unsecured_inq_last36\"),\n",
    "                    F.sum(\"PL_M1_flag\").alias(\"total_PL_inq_last1\"),\n",
    "                    F.sum(\"PL_M3_flag\").alias(\"total_PL_inq_last3\"),\n",
    "                    F.sum(\"PL_M12_flag\").alias(\"total_PL_inq_last12\"),\n",
    "                    F.sum(\"PL_M36_flag\").alias(\"total_PL_inq_last36\"),\n",
    "                    F.sum(\"10_1_flag\").alias(\"toal_inq_10_1\"),\n",
    "                    F.sum(\"10_3_flag\").alias(\"toal_inq_10_3\"),\n",
    "                    F.sum(\"10_12_flag\").alias(\"toal_inq_10_12\"),\n",
    "                    F.sum(\"10_36_flag\").alias(\"toal_inq_10_36\"),\n",
    "                    F.sum(\"50_1_flag\").alias(\"toal_inq_50_1\"),\n",
    "                    F.sum(\"50_3_flag\").alias(\"toal_inq_50_3\"),\n",
    "                    F.sum(\"50_12_flag\").alias(\"toal_inq_50_12\"),\n",
    "                    F.sum(\"50_36_flag\").alias(\"toal_inq_50_36\"),\n",
    "                    F.sum(\"100_1_flag\").alias(\"toal_inq_100_1\"),\n",
    "                    F.sum(\"100_3_flag\").alias(\"toal_inq_100_3\"),\n",
    "                    F.sum(\"100_12_flag\").alias(\"toal_inq_100_12\"),\n",
    "                    F.sum(\"100_36_flag\").alias(\"toal_inq_100_36\"),\n",
    "                    F.sum(\"500_1_flag\").alias(\"toal_inq_500_1\"),\n",
    "                    F.sum(\"500_3_flag\").alias(\"toal_inq_500_3\"),\n",
    "                    F.sum(\"500_12_flag\").alias(\"toal_inq_500_12\"),\n",
    "                    F.sum(\"500_36_flag\").alias(\"toal_inq_500_36\"),\n",
    "                    F.sum(\"PL_10_1_flag\").alias(\"toal_PL_inq_10_1\"),\n",
    "                    F.sum(\"PL_10_3_flag\").alias(\"toal_PL_inq_10_3\"),\n",
    "                    F.sum(\"PL_10_12_flag\").alias(\"toal_PL_inq_10_12\"),\n",
    "                    F.sum(\"PL_10_36_flag\").alias(\"toal_PL_inq_10_36\"),\n",
    "                    F.sum(\"PL_50_1_flag\").alias(\"toal_PL_inq_50_1\"),\n",
    "                    F.sum(\"PL_50_3_flag\").alias(\"toal_PL_inq_50_3\"),\n",
    "                    F.sum(\"PL_50_12_flag\").alias(\"toal_PL_inq_50_12\"),\n",
    "                    F.sum(\"PL_50_36_flag\").alias(\"toal_PL_inq_50_36\"),\n",
    "                    F.sum(\"PL_100_1_flag\").alias(\"toal_PL_inq_100_1\"),\n",
    "                    F.sum(\"PL_100_3_flag\").alias(\"toal_PL_inq_100_3\"),\n",
    "                    F.sum(\"PL_100_12_flag\").alias(\"toal_PL_inq_100_12\"),\n",
    "                    F.sum(\"PL_100_36_flag\").alias(\"toal_PL_inq_100_36\"),\n",
    "                    F.sum(\"PL_500_1_flag\").alias(\"toal_PL_inq_500_1\"),\n",
    "                    F.sum(\"PL_500_3_flag\").alias(\"toal_PL_inq_500_3\"),\n",
    "                    F.sum(\"PL_500_12_flag\").alias(\"toal_PL_inq_500_12\"),\n",
    "                    F.sum(\"PL_500_36_flag\").alias(\"toal_PL_inq_500_36\"),\n",
    "                    F.sum(\"CD_10_1_flag\").alias(\"toal_CD_inq_10_1\"),\n",
    "                    F.sum(\"CD_10_3_flag\").alias(\"toal_CD_inq_10_3\"),\n",
    "                    F.sum(\"CD_10_12_flag\").alias(\"toal_CD_inq_10_12\"),\n",
    "                    F.sum(\"CD_10_36_flag\").alias(\"toal_CD_inq_10_36\"),\n",
    "                    F.sum(\"CD_50_1_flag\").alias(\"toal_CD_inq_50_1\"),\n",
    "                    F.sum(\"CD_50_3_flag\").alias(\"toal_CD_inq_50_3\"),\n",
    "                    F.sum(\"CD_50_12_flag\").alias(\"toal_CD_inq_50_12\"),\n",
    "                    F.sum(\"CD_50_36_flag\").alias(\"toal_CD_inq_50_36\"),\n",
    "                    F.sum(\"Unsecured_10_1_flag\").alias(\"toal_unsecured_inq_10_1\"),\n",
    "                    F.sum(\"Unsecured_10_3_flag\").alias(\"toal_unsecured_inq_10_3\"),\n",
    "                    F.sum(\"Unsecured_10_12_flag\").alias(\"toal_unsecured_inq_10_12\"),\n",
    "                    F.sum(\"Unsecured_10_36_flag\").alias(\"toal_unsecured_inq_10_36\"),\n",
    "                    F.sum(\"Unsecured_50_1_flag\").alias(\"toal_unsecured_inq_50_1\"),\n",
    "                    F.sum(\"Unsecured_50_3_flag\").alias(\"toal_unsecured_inq_50_3\"),\n",
    "                    F.sum(\"Unsecured_50_12_flag\").alias(\"toal_unsecured_inq_50_12\"),\n",
    "                    F.sum(\"Unsecured_50_36_flag\").alias(\"toal_unsecured_inq_50_36\"),\n",
    "                    F.sum(\"Unsecured_100_1_flag\").alias(\"toal_unsecured_inq_100_1\"),\n",
    "                    F.sum(\"Unsecured_100_3_flag\").alias(\"toal_unsecured_inq_100_3\"),\n",
    "                    F.sum(\"Unsecured_100_12_flag\").alias(\"toal_unsecured_inq_100_12\"),\n",
    "                    F.sum(\"Unsecured_100_36_flag\").alias(\"toal_unsecured_inq_100_36\"),\n",
    "                    F.sum(\"Unsecured_500_1_flag\").alias(\"toal_unsecured_inq_500_1\"),\n",
    "                    F.sum(\"Unsecured_500_3_flag\").alias(\"toal_unsecured_inq_500_3\"),\n",
    "                    F.sum(\"Unsecured_500_12_flag\").alias(\"toal_unsecured_inq_500_12\"),\n",
    "                    F.sum(\"Unsecured_500_36_flag\").alias(\"toal_unsecured_inq_500_36\"),\n",
    "                    F.avg(\"M3_days\").alias(\"avg_M3_days\"),\n",
    "                    F.avg(\"M12_days\").alias(\"avg_M12_days\"),\n",
    "                    F.avg(\"M36_days\").alias(\"avg_M36_days\"),\n",
    "                    F.avg(\"M3_unsecured_days\").alias(\"avg_M3_unsecured_days\"),\n",
    "                    F.avg(\"M12_unsecured_days\").alias(\"avg_M12_unsecured_days\"),\n",
    "                    F.avg(\"M36_unsecured_days\").alias(\"avg_M36_unsecured_days\"),\n",
    "                    F.avg(\"M3_PL_days\").alias(\"avg_M3_PL_days\"),\n",
    "                    F.avg(\"M12_PL_days\").alias(\"avg_M12_PL_days\"),\n",
    "                    F.avg(\"M36_PL_days\").alias(\"avg_M36_PL_days\")              \n",
    ")"
   ]
  },
  {
   "cell_type": "markdown",
   "id": "57ca3ea7-de61-430d-84fa-b37713a7bf75",
   "metadata": {},
   "source": [
    "### Merging df_tradeline and inquiry_df"
   ]
  },
  {
   "cell_type": "code",
   "execution_count": 23,
   "id": "6ff79fe5-0f3f-4de3-a29e-e9b988f5af80",
   "metadata": {},
   "outputs": [],
   "source": [
    "all_features = df_tradeline.join(inquiry_df, on = \"FB_TRANSACTION_ID\", how = \"left\")"
   ]
  },
  {
   "cell_type": "code",
   "execution_count": 24,
   "id": "4bbf36af-af86-4cbc-95c4-c4019d8db3aa",
   "metadata": {},
   "outputs": [],
   "source": [
    "final_df = all_features.join(target_df, on = \"FB_TRANSACTION_ID\", how = \"left\")"
   ]
  },
  {
   "cell_type": "code",
   "execution_count": 25,
   "id": "b469c9d7-cc23-4cb4-a507-7ce5d8472ce5",
   "metadata": {},
   "outputs": [
    {
     "name": "stderr",
     "output_type": "stream",
     "text": [
      "[Stage 61:>                                                         (0 + 1) / 1]\r"
     ]
    },
    {
     "name": "stdout",
     "output_type": "stream",
     "text": [
      "+--------------------+------------------+-------------+--------------+----------------+---------------------+---------------------+---------------------+----------------------+---------------+---------------+---------------+--------------------+------------------------+------------------------+------------------------+-------------------------+---------------+------------------------+------------------------+------------------------+-------------------------+--------------------+----------------------+-------------------------------+-------------------------------+-------------------------------+--------------------------------+------------------------+----------------------+--------------------------------+----------------------------------+------------------------+----------------------------------+-------------+----------------+----------------+----------------+----------------+----------------+----------------+-----------------------+--------------------------+--------------------------+--------------------------+--------------------------+--------------------------+--------------------------+---------------------+------------------------------+-------------------------------------+-------------------------+--------------------------+--------------------------+----------------------------+-----------------------------+-----------------------------+-----------------------------------+------------------------------------+------------------------------------+--------------------------------------+---------------------------------------+---------------------------------------+----------------------------+-----------------------------+-----------------------------+-------------------------------+--------------------------------+--------------------------------+---------------------+---------------------+---------------------+---------------------+------------------+-------------------+-------------+--------------+--------------+-------------+--------------+--------------+--------------+---------------+---------------+--------------+---------------+---------------+--------------+---------------+---------------+---------------+----------------+----------------+-----------------+------------------+------------------+-----------------+------------------+------------------+------------------+-------------------+-------------------+-----------------+------------------+------------------+-----------------+------------------+------------------+------------------+-------------------+-------------------+------------------------+-------------------------+-------------------------+------------------------+-------------------------+-------------------------+-------------------------+--------------------------+--------------------------+---------+----------+----------+------------+-------------+-------------+-------------------+--------------------+--------------------+----------------+---------------+---------------+----------------+----------------+-------------------------+-------------------------+--------------------------+--------------------------+------------------+------------------+-------------------+-------------------+-------------+-------------+--------------+--------------+-------------+-------------+--------------+--------------+--------------+--------------+---------------+---------------+--------------+--------------+---------------+---------------+----------------+----------------+-----------------+-----------------+----------------+----------------+-----------------+-----------------+-----------------+-----------------+------------------+------------------+-----------------+-----------------+------------------+------------------+----------------+----------------+-----------------+-----------------+----------------+----------------+-----------------+-----------------+-----------------------+-----------------------+------------------------+------------------------+-----------------------+-----------------------+------------------------+------------------------+------------------------+------------------------+-------------------------+-------------------------+------------------------+------------------------+-------------------------+-------------------------+------------------+-----------------+------------------+---------------------+----------------------+----------------------+------------------+------------------+-----------------+------+\n",
      "|   FB_TRANSACTION_ID|max_vintage_bureau|first_product|latest_product|total_nbr_trades|total_trades_in_last1|total_trades_in_last3|total_trades_in_last6|total_trades_in_last12|total_HL_trades|total_BL_trades|total_PL_trades|total_live_PL_trades|total_PL_trades_in_last1|total_PL_trades_in_last3|total_PL_trades_in_last6|total_PL_trades_in_last12|total_CC_trades|total_CC_trades_in_last1|total_CC_trades_in_last3|total_CC_trades_in_last6|total_CC_trades_in_last12|total_Secured_trades|total_Unsecured_trades|total_Unsecured_trades_in_last1|total_Unsecured_trades_in_last3|total_Unsecured_trades_in_last6|total_Unsecured_trades_in_last12|total_installment_trades|total_live_trades_M0_2|total_unsecured_live_trades_M0_2|total_installment_live_trades_M0_2|diff_live_trades_M02_M68|diff_unsecured_live_trades_M02_M68|total_balance|total_PL_balance|total_BL_balance|total_CD_balance|total_AL_balance|total_HL_balance|total_CC_balance|total_sanctioned_amount|total_sanctioned_PL_amount|total_sanctioned_BL_amount|total_sanctioned_CD_amount|total_sanctioned_AL_amount|total_sanctioned_HL_amount|total_sanctioned_CC_amount|total_past_due_amount|total_writtenoff_suit_accounts|total_writtenoff_suit_accounts_last36|avg_days_open_loans_last6|avg_days_open_loans_last12|avg_days_open_loans_last36|median_days_open_loans_last6|median_days_open_loans_last12|median_days_open_loans_last36|avg_days_unsecured_open_loans_last6|avg_days_unsecured_open_loans_last12|avg_days_unsecured_open_loans_last36|median_days_unsecured_open_loans_last6|median_days_unsecured_open_loans_last12|median_days_unsecured_open_loans_last36|avg_days_PL_open_loans_last6|avg_days_PL_open_loans_last12|avg_days_PL_open_loans_last36|median_days_PL_open_loans_last6|median_days_PL_open_loans_last12|median_days_PL_open_loans_last36|avg_PL_vintage_last36|avg_BL_vintage_last36|avg_CC_vintage_last36|avg_CD_vintage_last36|      avg_CC_micro|       avg_CC_macro|total_0_3_dpd|total_0_12_dpd|total_0_36_dpd|total_1_3_dpd|total_1_12_dpd|total_1_36_dpd|total_30_3_dpd|total_30_12_dpd|total_30_36_dpd|total_60_3_dpd|total_60_12_dpd|total_60_36_dpd|total_90_3_dpd|total_90_12_dpd|total_90_36_dpd|total_180_3_dpd|total_180_12_dpd|total_180_36_dpd|total_30_3_dpd_PL|total_30_12_dpd_PL|total_30_36_dpd_PL|total_90_3_dpd_PL|total_90_12_dpd_PL|total_90_36_dpd_PL|total_180_3_dpd_PL|total_180_12_dpd_PL|total_180_36_dpd_PL|total_30_3_dpd_CC|total_30_12_dpd_CC|total_30_36_dpd_CC|total_90_3_dpd_CC|total_90_12_dpd_CC|total_90_36_dpd_CC|total_180_3_dpd_CC|total_180_12_dpd_CC|total_180_36_dpd_CC|total_30_3_dpd_unsecured|total_30_12_dpd_unsecured|total_30_36_dpd_unsecured|total_90_3_dpd_unsecured|total_90_12_dpd_unsecured|total_90_36_dpd_unsecured|total_180_3_dpd_unsecured|total_180_12_dpd_unsecured|total_180_36_dpd_unsecured|max_3_dpd|max_12_dpd|max_36_dpd|max_3_dpd_PL|max_12_dpd_PL|max_36_dpd_PL|max_3_dpd_unsecured|max_12_dpd_unsecured|max_36_dpd_unsecured|oldest_inq_month|total_inq_last1|total_inq_last3|total_inq_last12|total_inq_last36|total_unsecured_inq_last1|total_unsecured_inq_last3|total_unsecured_inq_last12|total_unsecured_inq_last36|total_PL_inq_last1|total_PL_inq_last3|total_PL_inq_last12|total_PL_inq_last36|toal_inq_10_1|toal_inq_10_3|toal_inq_10_12|toal_inq_10_36|toal_inq_50_1|toal_inq_50_3|toal_inq_50_12|toal_inq_50_36|toal_inq_100_1|toal_inq_100_3|toal_inq_100_12|toal_inq_100_36|toal_inq_500_1|toal_inq_500_3|toal_inq_500_12|toal_inq_500_36|toal_PL_inq_10_1|toal_PL_inq_10_3|toal_PL_inq_10_12|toal_PL_inq_10_36|toal_PL_inq_50_1|toal_PL_inq_50_3|toal_PL_inq_50_12|toal_PL_inq_50_36|toal_PL_inq_100_1|toal_PL_inq_100_3|toal_PL_inq_100_12|toal_PL_inq_100_36|toal_PL_inq_500_1|toal_PL_inq_500_3|toal_PL_inq_500_12|toal_PL_inq_500_36|toal_CD_inq_10_1|toal_CD_inq_10_3|toal_CD_inq_10_12|toal_CD_inq_10_36|toal_CD_inq_50_1|toal_CD_inq_50_3|toal_CD_inq_50_12|toal_CD_inq_50_36|toal_unsecured_inq_10_1|toal_unsecured_inq_10_3|toal_unsecured_inq_10_12|toal_unsecured_inq_10_36|toal_unsecured_inq_50_1|toal_unsecured_inq_50_3|toal_unsecured_inq_50_12|toal_unsecured_inq_50_36|toal_unsecured_inq_100_1|toal_unsecured_inq_100_3|toal_unsecured_inq_100_12|toal_unsecured_inq_100_36|toal_unsecured_inq_500_1|toal_unsecured_inq_500_3|toal_unsecured_inq_500_12|toal_unsecured_inq_500_36|       avg_M3_days|     avg_M12_days|      avg_M36_days|avg_M3_unsecured_days|avg_M12_unsecured_days|avg_M36_unsecured_days|    avg_M3_PL_days|   avg_M12_PL_days|  avg_M36_PL_days|TARGET|\n",
      "+--------------------+------------------+-------------+--------------+----------------+---------------------+---------------------+---------------------+----------------------+---------------+---------------+---------------+--------------------+------------------------+------------------------+------------------------+-------------------------+---------------+------------------------+------------------------+------------------------+-------------------------+--------------------+----------------------+-------------------------------+-------------------------------+-------------------------------+--------------------------------+------------------------+----------------------+--------------------------------+----------------------------------+------------------------+----------------------------------+-------------+----------------+----------------+----------------+----------------+----------------+----------------+-----------------------+--------------------------+--------------------------+--------------------------+--------------------------+--------------------------+--------------------------+---------------------+------------------------------+-------------------------------------+-------------------------+--------------------------+--------------------------+----------------------------+-----------------------------+-----------------------------+-----------------------------------+------------------------------------+------------------------------------+--------------------------------------+---------------------------------------+---------------------------------------+----------------------------+-----------------------------+-----------------------------+-------------------------------+--------------------------------+--------------------------------+---------------------+---------------------+---------------------+---------------------+------------------+-------------------+-------------+--------------+--------------+-------------+--------------+--------------+--------------+---------------+---------------+--------------+---------------+---------------+--------------+---------------+---------------+---------------+----------------+----------------+-----------------+------------------+------------------+-----------------+------------------+------------------+------------------+-------------------+-------------------+-----------------+------------------+------------------+-----------------+------------------+------------------+------------------+-------------------+-------------------+------------------------+-------------------------+-------------------------+------------------------+-------------------------+-------------------------+-------------------------+--------------------------+--------------------------+---------+----------+----------+------------+-------------+-------------+-------------------+--------------------+--------------------+----------------+---------------+---------------+----------------+----------------+-------------------------+-------------------------+--------------------------+--------------------------+------------------+------------------+-------------------+-------------------+-------------+-------------+--------------+--------------+-------------+-------------+--------------+--------------+--------------+--------------+---------------+---------------+--------------+--------------+---------------+---------------+----------------+----------------+-----------------+-----------------+----------------+----------------+-----------------+-----------------+-----------------+-----------------+------------------+------------------+-----------------+-----------------+------------------+------------------+----------------+----------------+-----------------+-----------------+----------------+----------------+-----------------+-----------------+-----------------------+-----------------------+------------------------+------------------------+-----------------------+-----------------------+------------------------+------------------------+------------------------+------------------------+-------------------------+-------------------------+------------------------+------------------------+-------------------------+-------------------------+------------------+-----------------+------------------+---------------------+----------------------+----------------------+------------------+------------------+-----------------+------+\n",
      "|FAST1167168558886728|             100.0|           10|          NULL|             462|                    0|                    5|                   22|                    64|              0|              0|            310|                 123|                       0|                       4|                      21|                       57|            151|                       0|                       1|                       1|                        7|                   0|                   462|                              0|                              5|                             22|                              64|                     311|                   241|                             241|                               126|                      16|                                16|  2.5265258E7|     2.0685088E7|             0.0|         20830.0|             0.0|             0.0|       4559340.0|            9.9099264E7|               9.1370306E7|                       0.0|                   20830.0|                       0.0|                       0.0|                 7708128.0|                  0.0|                             0|                                    0|      -0.3593073593073593|       -0.7316017316017316|       -2.3376623376623376|                         0.0|                          0.0|                          0.0|                -0.3593073593073593|                 -0.7316017316017316|                 -2.3376623376623376|                                   0.0|                                    0.0|                                    0.0|          -0.354978354978355|          -0.7121212121212122|          -2.2705627705627704|                            0.0|                             0.0|                             0.0|    6.809523809523809|                  0.0|  0.10606060606060606|   0.0367965367965368|5.0013813292116485|0.28596753659843926|            5|            64|           177|            0|             3|             3|             0|              0|              0|             0|              0|              0|             0|              0|              0|              0|               0|               0|                0|                 0|                 0|                0|                 0|                 0|                 0|                  0|                  0|                0|                 0|                 0|                0|                 0|                 0|                 0|                  0|                  0|                       0|                        0|                        0|                       0|                        0|                        0|                        0|                         0|                         0|        0|         1|         1|           0|            1|            1|                  0|                   1|                   1|           101.0|              0|              6|              13|              32|                        0|                        6|                        13|                        31|                 0|                 2|                  8|                 19|            0|            2|             7|            22|            0|            2|             2|            17|             0|             1|              1|             13|             0|             0|              0|              8|               0|               1|                6|               16|               0|               1|                1|               11|                0|                0|                 0|                 9|                0|                0|                 0|                 7|               0|               0|                0|                0|               0|               0|                0|                0|                      0|                      2|                       7|                      21|                      0|                      2|                       2|                      16|                       0|                       1|                        1|                       12|                       0|                       0|                        0|                        8|0.7721518987341772|4.050632911392405|13.354430379746836|   0.7721518987341772|     4.050632911392405|    12.468354430379748|0.4177215189873418|3.5316455696202533|6.582278481012659|     0|\n",
      "+--------------------+------------------+-------------+--------------+----------------+---------------------+---------------------+---------------------+----------------------+---------------+---------------+---------------+--------------------+------------------------+------------------------+------------------------+-------------------------+---------------+------------------------+------------------------+------------------------+-------------------------+--------------------+----------------------+-------------------------------+-------------------------------+-------------------------------+--------------------------------+------------------------+----------------------+--------------------------------+----------------------------------+------------------------+----------------------------------+-------------+----------------+----------------+----------------+----------------+----------------+----------------+-----------------------+--------------------------+--------------------------+--------------------------+--------------------------+--------------------------+--------------------------+---------------------+------------------------------+-------------------------------------+-------------------------+--------------------------+--------------------------+----------------------------+-----------------------------+-----------------------------+-----------------------------------+------------------------------------+------------------------------------+--------------------------------------+---------------------------------------+---------------------------------------+----------------------------+-----------------------------+-----------------------------+-------------------------------+--------------------------------+--------------------------------+---------------------+---------------------+---------------------+---------------------+------------------+-------------------+-------------+--------------+--------------+-------------+--------------+--------------+--------------+---------------+---------------+--------------+---------------+---------------+--------------+---------------+---------------+---------------+----------------+----------------+-----------------+------------------+------------------+-----------------+------------------+------------------+------------------+-------------------+-------------------+-----------------+------------------+------------------+-----------------+------------------+------------------+------------------+-------------------+-------------------+------------------------+-------------------------+-------------------------+------------------------+-------------------------+-------------------------+-------------------------+--------------------------+--------------------------+---------+----------+----------+------------+-------------+-------------+-------------------+--------------------+--------------------+----------------+---------------+---------------+----------------+----------------+-------------------------+-------------------------+--------------------------+--------------------------+------------------+------------------+-------------------+-------------------+-------------+-------------+--------------+--------------+-------------+-------------+--------------+--------------+--------------+--------------+---------------+---------------+--------------+--------------+---------------+---------------+----------------+----------------+-----------------+-----------------+----------------+----------------+-----------------+-----------------+-----------------+-----------------+------------------+------------------+-----------------+-----------------+------------------+------------------+----------------+----------------+-----------------+-----------------+----------------+----------------+-----------------+-----------------+-----------------------+-----------------------+------------------------+------------------------+-----------------------+-----------------------+------------------------+------------------------+------------------------+------------------------+-------------------------+-------------------------+------------------------+------------------------+-------------------------+-------------------------+------------------+-----------------+------------------+---------------------+----------------------+----------------------+------------------+------------------+-----------------+------+\n",
      "only showing top 1 row\n",
      "\n"
     ]
    },
    {
     "name": "stderr",
     "output_type": "stream",
     "text": [
      "                                                                                \r"
     ]
    }
   ],
   "source": [
    "final_df.show(1)"
   ]
  },
  {
   "cell_type": "code",
   "execution_count": 26,
   "id": "672520c5-8fb2-4ab6-8da8-b23afe7e5bc7",
   "metadata": {},
   "outputs": [
    {
     "name": "stderr",
     "output_type": "stream",
     "text": [
      "                                                                                \r"
     ]
    }
   ],
   "source": [
    "# final_df.write.csv(\"final_features.csv\", header=True, mode=\"overwrite\")\n",
    "# final_df_pandas = final_df.toPandas()\n",
    "# final_df_pandas.to_csv('final_features.csv', header = True)"
   ]
  },
  {
   "cell_type": "code",
   "execution_count": null,
   "id": "04c134a5-2085-49f7-90a4-fdcb9e3cd8e8",
   "metadata": {},
   "outputs": [],
   "source": []
  }
 ],
 "metadata": {
  "kernelspec": {
   "display_name": "Python 3 (ipykernel)",
   "language": "python",
   "name": "python3"
  },
  "language_info": {
   "codemirror_mode": {
    "name": "ipython",
    "version": 3
   },
   "file_extension": ".py",
   "mimetype": "text/x-python",
   "name": "python",
   "nbconvert_exporter": "python",
   "pygments_lexer": "ipython3",
   "version": "3.9.7"
  }
 },
 "nbformat": 4,
 "nbformat_minor": 5
}
